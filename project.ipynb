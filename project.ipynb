{
 "cells": [
  {
   "cell_type": "markdown",
   "metadata": {},
   "source": [
    "# Fundamentals of Data Analysis Project Notebook - Iris Dataset Analysis\n",
    "Author - Sean Humphreys\n",
    "\n",
    "---\n",
    "\n",
    "### Contents\n",
    "\n",
    "1. [Problem Statement](#problem-statement)\n",
    "2. [Background](#background)\n",
    "4. [Pandas](#pandas)\n",
    "5. [Dataset](#dataset)\n",
    "    1. [Data Quality](#data-quality)\n",
    "    2. [Dataset Variables](#dataset-variables)\n",
    "3. [Background Reading](#background-reading)\n",
    "\n",
    "---"
   ]
  },
  {
   "cell_type": "markdown",
   "metadata": {},
   "source": [
    "## Problem Statement <a id=\"problem-statement\"></a>\n",
    "\n",
    "- create a notebook investigating the variables and data points within the well-known iris flower data set associated with Ronald A Fisher.\n",
    "- in the notebook, you should discuss the classification of each variable within the data set according to common variable types and scales of measurement in mathematics, statistics, and Python.\n",
    "- Select, demonstrate, and explain the most appropriate summary statistics to describe each variable.\n",
    "- Select, demonstrate, and explain the most appropriate plot(s) for each variable\n",
    "- The notebook should follow a cohesive narrative about the data set.\n",
    "---"
   ]
  },
  {
   "cell_type": "markdown",
   "metadata": {},
   "source": [
    "## Background <a id=\"background\"></a>\n",
    "\n",
    "The [Iris Data Set](https://en.wikipedia.org/wiki/Iris_flower_data_set) is a data set that consists 50 samples from \n",
    "three species of Iris - Iris-setosa, Iris-virginica and Iris-versicolor. Each sample contains 4 measurements:\n",
    "1. Petal width\n",
    "2. Petal length\n",
    "3. Sepal width\n",
    "4. Sepal length\n",
    "\n",
    "This data set is an example of a multivariate data set and was popularised by statistician and biologist [Sir Ronald\n",
    "Fisher](https://en.wikipedia.org/wiki/Ronald_Fisher) in his 1936 paper entitled \n",
    "[*\"The use of multiple measurements in taxonomic problems\"*](https://digital.library.adelaide.edu.au/dspace/bitstream/2440/15227/1/138.pdf)\n",
    ". The data was collected by [Dr. Edgar Anderson](https://en.wikipedia.org/wiki/Edgar_Anderson) from the Gaspé Peninsula\n",
    "in Canada. Two of the three species were collected from the same meadow, by the same person, using standard equipment \n",
    "in order to minimise the risk of variation in the data samples arising from the way in which it was collected and \n",
    "measured. Dr. Anderson is recognised as a significant contributor in the field of botanical genetics.\n",
    "\n",
    "As can be seen from the picture below the appearance of each species is similar. Sir Fisher's Analysis of the data set\n",
    "enabled accurate classification of the species from petal and sepal measurement and as a result the data set is \n",
    "routinely used as a beginners dataset for machine learning purposes.\n",
    "\n",
    "![image 1](images/illustrations/Iris_Image.png \"Iris Species\")\n",
    "\n",
    "---"
   ]
  },
  {
   "cell_type": "markdown",
   "metadata": {},
   "source": [
    "## Pandas <a id=\"pandas\"></a>\n",
    "\n",
    "Using *Python*, import the Iris dataset."
   ]
  },
  {
   "cell_type": "code",
   "execution_count": 1,
   "metadata": {},
   "outputs": [],
   "source": [
    "from ucimlrepo import fetch_ucirepo\n",
    "\n",
    "# fetch dataset \n",
    "iris = fetch_ucirepo(id=53)"
   ]
  },
  {
   "cell_type": "markdown",
   "metadata": {},
   "source": [
    "[Pandas](https://pandas.pydata.org/) is an open source software library used in data analytics that allows data analysis and manipulation. Pandas is built on top of the *Python* programming language. A Pandas DataFrame is a dictionary like container for Series objects. A DataFrame is the primary Pandas data structure. Using Pandas it is possible to define variables to put the Iris dataset into Pandas DataFrames."
   ]
  },
  {
   "cell_type": "code",
   "execution_count": 2,
   "metadata": {},
   "outputs": [],
   "source": [
    "# data (as pandas dataframes) \n",
    "iris_ds_features = iris.data.features \n",
    "iris_ds_targets = iris.data.targets"
   ]
  },
  {
   "cell_type": "markdown",
   "metadata": {},
   "source": [
    "To confirm the DataFrame data structure, the built-in *type* function in Python is used. "
   ]
  },
  {
   "cell_type": "code",
   "execution_count": 3,
   "metadata": {},
   "outputs": [
    {
     "name": "stdout",
     "output_type": "stream",
     "text": [
      "<class 'pandas.core.frame.DataFrame'>\n",
      "<class 'pandas.core.frame.DataFrame'>\n"
     ]
    }
   ],
   "source": [
    "print(type(iris_ds_features))\n",
    "print(type(iris_ds_targets))"
   ]
  },
  {
   "cell_type": "markdown",
   "metadata": {},
   "source": [
    "A benefit of using Pandas is that it can be used to make datasets readable. In this instance Pandas is used to combine the two datasets into one DataFrame and rename the columns. Further cleaning of the dataset is carried out to remove the \"*Iris-*\" string from the species entries so that just the subgenus is left as a string in the species column."
   ]
  },
  {
   "cell_type": "code",
   "execution_count": 4,
   "metadata": {},
   "outputs": [],
   "source": [
    "# add the 'class' variable from iris_ds_targets variable into the iris_ds_features Pandas DataFrame\n",
    "iris_ds_features['class'] = iris_ds_targets['class']\n",
    "\n",
    "# rename the existing DataFrame (rather than creating a copy) \n",
    "iris_ds_features.rename(columns={'sepal length': 'sepal_length_cm', 'sepal width': 'sepal_width_cm', 'petal length': 'petal_length_cm', 'petal width': 'petal_width_cm', 'class': 'species'},  inplace=True)\n",
    "\n",
    "# remove \"Iris-\" string from species entries - https://www.statology.org/pandas-remove-characters-from-string/ [Accessed 13 Oct. 2023]\n",
    "iris_ds_features['species'] = iris_ds_features['species'].str.replace('Iris-', '')"
   ]
  },
  {
   "cell_type": "markdown",
   "metadata": {},
   "source": [
    "## Dataset <a id=\"dataset\"></a>\n",
    "---"
   ]
  },
  {
   "cell_type": "markdown",
   "metadata": {},
   "source": [
    "### Data Quality <a id=\"data-quality\"></a>"
   ]
  },
  {
   "cell_type": "markdown",
   "metadata": {},
   "source": [
    "Using the `isnull()` chained with the `sum()` method the dataset can be inspected for missing values. The output indicates no missing values in the dataset."
   ]
  },
  {
   "cell_type": "code",
   "execution_count": 5,
   "metadata": {},
   "outputs": [
    {
     "data": {
      "text/plain": [
       "sepal_length_cm    0\n",
       "sepal_width_cm     0\n",
       "petal_length_cm    0\n",
       "petal_width_cm     0\n",
       "species            0\n",
       "dtype: int64"
      ]
     },
     "execution_count": 5,
     "metadata": {},
     "output_type": "execute_result"
    }
   ],
   "source": [
    "# https://www.geeksforgeeks.org/python-basics-of-pandas-using-iris-dataset/ [Accessed 13 Oct. 2023].\n",
    "iris_ds_features.isnull().sum()"
   ]
  },
  {
   "cell_type": "markdown",
   "metadata": {},
   "source": [
    "### Dataset Variables <a id=\"dataset-variables\"></a>"
   ]
  },
  {
   "cell_type": "markdown",
   "metadata": {},
   "source": [
    "Using the Pandas `head()` method the first 5 lines of the DataFrame can be viewed. From the output 5 variables are identified within the Iris Data"
   ]
  },
  {
   "cell_type": "code",
   "execution_count": 6,
   "metadata": {},
   "outputs": [
    {
     "data": {
      "text/html": [
       "<div>\n",
       "<style scoped>\n",
       "    .dataframe tbody tr th:only-of-type {\n",
       "        vertical-align: middle;\n",
       "    }\n",
       "\n",
       "    .dataframe tbody tr th {\n",
       "        vertical-align: top;\n",
       "    }\n",
       "\n",
       "    .dataframe thead th {\n",
       "        text-align: right;\n",
       "    }\n",
       "</style>\n",
       "<table border=\"1\" class=\"dataframe\">\n",
       "  <thead>\n",
       "    <tr style=\"text-align: right;\">\n",
       "      <th></th>\n",
       "      <th>sepal_length_cm</th>\n",
       "      <th>sepal_width_cm</th>\n",
       "      <th>petal_length_cm</th>\n",
       "      <th>petal_width_cm</th>\n",
       "      <th>species</th>\n",
       "    </tr>\n",
       "  </thead>\n",
       "  <tbody>\n",
       "    <tr>\n",
       "      <th>0</th>\n",
       "      <td>5.1</td>\n",
       "      <td>3.5</td>\n",
       "      <td>1.4</td>\n",
       "      <td>0.2</td>\n",
       "      <td>setosa</td>\n",
       "    </tr>\n",
       "    <tr>\n",
       "      <th>1</th>\n",
       "      <td>4.9</td>\n",
       "      <td>3.0</td>\n",
       "      <td>1.4</td>\n",
       "      <td>0.2</td>\n",
       "      <td>setosa</td>\n",
       "    </tr>\n",
       "    <tr>\n",
       "      <th>2</th>\n",
       "      <td>4.7</td>\n",
       "      <td>3.2</td>\n",
       "      <td>1.3</td>\n",
       "      <td>0.2</td>\n",
       "      <td>setosa</td>\n",
       "    </tr>\n",
       "    <tr>\n",
       "      <th>3</th>\n",
       "      <td>4.6</td>\n",
       "      <td>3.1</td>\n",
       "      <td>1.5</td>\n",
       "      <td>0.2</td>\n",
       "      <td>setosa</td>\n",
       "    </tr>\n",
       "    <tr>\n",
       "      <th>4</th>\n",
       "      <td>5.0</td>\n",
       "      <td>3.6</td>\n",
       "      <td>1.4</td>\n",
       "      <td>0.2</td>\n",
       "      <td>setosa</td>\n",
       "    </tr>\n",
       "  </tbody>\n",
       "</table>\n",
       "</div>"
      ],
      "text/plain": [
       "   sepal_length_cm  sepal_width_cm  petal_length_cm  petal_width_cm species\n",
       "0              5.1             3.5              1.4             0.2  setosa\n",
       "1              4.9             3.0              1.4             0.2  setosa\n",
       "2              4.7             3.2              1.3             0.2  setosa\n",
       "3              4.6             3.1              1.5             0.2  setosa\n",
       "4              5.0             3.6              1.4             0.2  setosa"
      ]
     },
     "execution_count": 6,
     "metadata": {},
     "output_type": "execute_result"
    }
   ],
   "source": [
    "iris_ds_features.head()"
   ]
  },
  {
   "cell_type": "markdown",
   "metadata": {},
   "source": [
    "Information on the data types in the Iris dataset is displayed with the following code (GitHub, 2023)."
   ]
  },
  {
   "cell_type": "code",
   "execution_count": 7,
   "metadata": {},
   "outputs": [
    {
     "data": {
      "text/html": [
       "<div>\n",
       "<style scoped>\n",
       "    .dataframe tbody tr th:only-of-type {\n",
       "        vertical-align: middle;\n",
       "    }\n",
       "\n",
       "    .dataframe tbody tr th {\n",
       "        vertical-align: top;\n",
       "    }\n",
       "\n",
       "    .dataframe thead th {\n",
       "        text-align: right;\n",
       "    }\n",
       "</style>\n",
       "<table border=\"1\" class=\"dataframe\">\n",
       "  <thead>\n",
       "    <tr style=\"text-align: right;\">\n",
       "      <th></th>\n",
       "      <th>name</th>\n",
       "      <th>role</th>\n",
       "      <th>type</th>\n",
       "      <th>demographic</th>\n",
       "      <th>description</th>\n",
       "      <th>units</th>\n",
       "      <th>missing_values</th>\n",
       "    </tr>\n",
       "  </thead>\n",
       "  <tbody>\n",
       "    <tr>\n",
       "      <th>0</th>\n",
       "      <td>sepal length</td>\n",
       "      <td>Feature</td>\n",
       "      <td>Continuous</td>\n",
       "      <td>None</td>\n",
       "      <td>None</td>\n",
       "      <td>cm</td>\n",
       "      <td>no</td>\n",
       "    </tr>\n",
       "    <tr>\n",
       "      <th>1</th>\n",
       "      <td>sepal width</td>\n",
       "      <td>Feature</td>\n",
       "      <td>Continuous</td>\n",
       "      <td>None</td>\n",
       "      <td>None</td>\n",
       "      <td>cm</td>\n",
       "      <td>no</td>\n",
       "    </tr>\n",
       "    <tr>\n",
       "      <th>2</th>\n",
       "      <td>petal length</td>\n",
       "      <td>Feature</td>\n",
       "      <td>Continuous</td>\n",
       "      <td>None</td>\n",
       "      <td>None</td>\n",
       "      <td>cm</td>\n",
       "      <td>no</td>\n",
       "    </tr>\n",
       "    <tr>\n",
       "      <th>3</th>\n",
       "      <td>petal width</td>\n",
       "      <td>Feature</td>\n",
       "      <td>Continuous</td>\n",
       "      <td>None</td>\n",
       "      <td>None</td>\n",
       "      <td>cm</td>\n",
       "      <td>no</td>\n",
       "    </tr>\n",
       "    <tr>\n",
       "      <th>4</th>\n",
       "      <td>class</td>\n",
       "      <td>Target</td>\n",
       "      <td>Categorical</td>\n",
       "      <td>None</td>\n",
       "      <td>class of iris plant: Iris Setosa, Iris Versico...</td>\n",
       "      <td>None</td>\n",
       "      <td>no</td>\n",
       "    </tr>\n",
       "  </tbody>\n",
       "</table>\n",
       "</div>"
      ],
      "text/plain": [
       "           name     role         type demographic  \\\n",
       "0  sepal length  Feature   Continuous        None   \n",
       "1   sepal width  Feature   Continuous        None   \n",
       "2  petal length  Feature   Continuous        None   \n",
       "3   petal width  Feature   Continuous        None   \n",
       "4         class   Target  Categorical        None   \n",
       "\n",
       "                                         description units missing_values  \n",
       "0                                               None    cm             no  \n",
       "1                                               None    cm             no  \n",
       "2                                               None    cm             no  \n",
       "3                                               None    cm             no  \n",
       "4  class of iris plant: Iris Setosa, Iris Versico...  None             no  "
      ]
     },
     "execution_count": 7,
     "metadata": {},
     "output_type": "execute_result"
    }
   ],
   "source": [
    "iris.variables"
   ]
  },
  {
   "cell_type": "markdown",
   "metadata": {},
   "source": [
    "Information on the datatypes in the Iris dataset is summarised using the `info()` method (www.w3schools.com, n.d.)."
   ]
  },
  {
   "cell_type": "code",
   "execution_count": 8,
   "metadata": {},
   "outputs": [
    {
     "name": "stdout",
     "output_type": "stream",
     "text": [
      "<class 'pandas.core.frame.DataFrame'>\n",
      "RangeIndex: 150 entries, 0 to 149\n",
      "Data columns (total 5 columns):\n",
      " #   Column           Non-Null Count  Dtype  \n",
      "---  ------           --------------  -----  \n",
      " 0   sepal_length_cm  150 non-null    float64\n",
      " 1   sepal_width_cm   150 non-null    float64\n",
      " 2   petal_length_cm  150 non-null    float64\n",
      " 3   petal_width_cm   150 non-null    float64\n",
      " 4   species          150 non-null    object \n",
      "dtypes: float64(4), object(1)\n",
      "memory usage: 6.0+ KB\n"
     ]
    }
   ],
   "source": [
    "iris_ds_features.info()"
   ]
  },
  {
   "cell_type": "markdown",
   "metadata": {},
   "source": [
    "Variable classification determines the type of analysis that can be carried out on that variable. The graphic below summarises the types of data and how they can be analysed. \n",
    "\n",
    "![Data Summary](images/illustrations/data_categories_18102023_sh.png \"Data Summary Graphic\")\n",
    "\n",
    "Summarised from Sharma, 2020\n",
    "\n",
    "Levels of measurement tell how precisely variables are recorded (Bhandari, 2020) and are summarised as follows:\n",
    "\n",
    "| Level             | Description                                                                   |\n",
    "| :-----------      | :----------                                                                   |\n",
    "| Nominal           | The data can only be categorized                                              |\n",
    "| Ordinal           | The data can be categorized and ranked                                        |\n",
    "| Interval          | The data can be categorized, ranked, and evenly spaced                        |\n",
    "| Ratio             | The data can be categorized, ranked, evenly spaced, and has a natural zero    |\n",
    "\n",
    "Applying data type classification and levels of measurement the Iris dataset can be summarised as follows:\n",
    "\n"
   ]
  },
  {
   "cell_type": "markdown",
   "metadata": {},
   "source": [
    "The above summaries of the Iris data set demonstrate the following:\n",
    "1. Sepal length, sepal width, petal length and petal width are continuous data types\n",
    "2.  "
   ]
  },
  {
   "cell_type": "markdown",
   "metadata": {},
   "source": [
    "## References <a id=\"references\"></a>\n",
    "\n",
    "GitHub. (2023). ucimlrepo package. [online] Available at: https://github.com/uci-ml-repo/ucimlrepo [Accessed 20 Oct. 2023].\n",
    "\n",
    "Sharma, R. (2020). 4 Types of Data: Nominal, Ordinal, Discrete, Continuous. [online] upGrad blog. Available at: https://www.upgrad.com/blog/types-of-data/. [Accessed 18 Oct. 2023].\n",
    "\n",
    "www.w3schools.com. (n.d.). Pandas DataFrame info() Method. [online] Available at: https://www.w3schools.com/python/pandas/ref_df_info.asp. [Accessed 20 Oct. 2023]."
   ]
  },
  {
   "cell_type": "markdown",
   "metadata": {},
   "source": [
    "## Background Reading <a id=\"background-reading\"></a>\n",
    "\n",
    "archive.ics.uci.edu. (n.d.). UCI Machine Learning Repository. [online] Available at: https://archive.ics.uci.edu/dataset/53/iris. [Accessed 12 Oct. 2023].\n",
    "\n",
    "Ekiz, A. (2023). Creating Table of Contents in Jupyter Notebook. [online] Medium. Available at: https://medium.com/@ahmetekiz/creating-table-of-contents-in-jupyter-notebook-52a7c696817f [Accessed 11 Oct. 2023].\n",
    "\n",
    "GeeksforGeeks. (2020). Python - Basics of Pandas using Iris Dataset. [online] Available at: https://www.geeksforgeeks.org/python-basics-of-pandas-using-iris-dataset/. [Accessed 13 Oct. 2023].\n",
    "\n",
    "https://digital.library.adelaide.edu.au/dspace/bitstream/2440/15227/1/138.pdf  [accessed 11 Oct. 2023].\n",
    "\n",
    "Pandas (2018). Python Data Analysis Library — pandas: Python Data Analysis Library. [online] Pydata.org. Available at: https://pandas.pydata.org/. [Accessed 13 Oct. 2023].\n",
    "\n",
    "Stack Overflow. (n.d.). python - Renaming column names in Pandas. [online] Available at: https://stackoverflow.com/questions/11346283/renaming-column-names-in-pandas. [Accessed 13 Oct. 2023].\n",
    "\n",
    "Wikipedia. (2023). Edgar Anderson. [online] Available at: https://en.wikipedia.org/wiki/Edgar_Anderson [Accessed 11 Oct. 2023].\n",
    "\n",
    "Wikipedia Contributors (2019). Iris flower data set. [online] Wikipedia. Available at: https://en.wikipedia.org/wiki/Iris_flower_data_set. [Accessed 11 Oct. 2023].\n",
    "‌\n",
    "Wikipedia Contributors (2019). Ronald Fisher. [online] Wikipedia. Available at: https://en.wikipedia.org/wiki/Ronald_Fisher. [Accessed 11 Oct. 2023].\n",
    "\n",
    "Zach (2022). Pandas: How to Remove Specific Characters from Strings. [online] Statology. Available at: https://www.statology.org/pandas-remove-characters-from-string/. [Acessed 13 Oct. 2023]."
   ]
  }
 ],
 "metadata": {
  "kernelspec": {
   "display_name": "Python 3 (ipykernel)",
   "language": "python",
   "name": "python3"
  },
  "language_info": {
   "codemirror_mode": {
    "name": "ipython",
    "version": 3
   },
   "file_extension": ".py",
   "mimetype": "text/x-python",
   "name": "python",
   "nbconvert_exporter": "python",
   "pygments_lexer": "ipython3",
   "version": "3.11.5"
  }
 },
 "nbformat": 4,
 "nbformat_minor": 2
}
