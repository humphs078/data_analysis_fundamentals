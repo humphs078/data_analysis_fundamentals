{
 "cells": [
  {
   "cell_type": "markdown",
   "metadata": {},
   "source": [
    "# Fundamentals of Data Analysis Project Notebook - Iris Dataset Analysis\n",
    "Author - Sean Humphreys\n",
    "\n",
    "---\n",
    "\n",
    "### Contents\n",
    "\n",
    "1. [Problem Statement](#problem-statement)\n",
    "2. [Background](#background)\n",
    "3. [Background Reading](#background-reading)\n",
    "4. [Variable Types](#dataset-variables)\n",
    "\n",
    "---"
   ]
  },
  {
   "cell_type": "markdown",
   "metadata": {},
   "source": [
    "## Problem Statement <a id=\"problem-statement\"></a>\n",
    "\n",
    "- create a notebook investigating the variables and data points within the well-known iris flower data set associated with Ronald A Fisher.\n",
    "- in the notebook, you should discuss the classification of each variable within the data set according to common variable types and scales of measurement in mathematics, statistics, and Python.\n",
    "- Select, demonstrate, and explain the most appropriate summary statistics to describe each variable.\n",
    "- Select, demonstrate, and explain the most appropriate plot(s) for each variable\n",
    "- The notebook should follow a cohesive narrative about the data set.\n",
    "---"
   ]
  },
  {
   "cell_type": "markdown",
   "metadata": {},
   "source": [
    "## Background <a id=\"background\"></a>\n",
    "\n",
    "The [Iris Data Set](https://en.wikipedia.org/wiki/Iris_flower_data_set) is a data set that consists 50 samples from \n",
    "three species of Iris - Iris-setosa, Iris-virginica and Iris-versicolor. Each sample contains 4 measurements:\n",
    "1. Petal width\n",
    "2. Petal length\n",
    "3. Sepal width\n",
    "4. Sepal length\n",
    "\n",
    "This data set is an example of a multivariate data set and was popularised by statistician and biologist [Sir Ronald\n",
    "Fisher](https://en.wikipedia.org/wiki/Ronald_Fisher) in his 1936 paper entitled \n",
    "[*\"The use of multiple measurements in taxonomic problems\"*](https://digital.library.adelaide.edu.au/dspace/bitstream/2440/15227/1/138.pdf)\n",
    ". The data was collected by [Dr. Edgar Anderson](https://en.wikipedia.org/wiki/Edgar_Anderson) from the Gaspé Peninsula\n",
    "in Canada. Two of the three species were collected from the same meadow, by the same person, using standard equipment \n",
    "in order to minimise the risk of variation in the data samples arising from the way in which it was collected and \n",
    "measured. Dr. Anderson is recognised as a significant contributor in the field of botanical genetics.\n",
    "\n",
    "As can be seen from the picture below the appearance of each species is similar. Sir Fisher's Analysis of the data set\n",
    "enabled accurate classification of the species from petal and sepal measurement and as a result the data set is \n",
    "routinely used as a beginners dataset for machine learning purposes.\n",
    "\n",
    "![image 1](images/illustrations/Iris_Image.png \"Iris Species\")\n",
    "\n",
    "---"
   ]
  },
  {
   "cell_type": "markdown",
   "metadata": {},
   "source": [
    "## Dataset Variables <a id=\"dataset-variables\"></a>\n",
    "\n",
    "Using *Python*, import the Iris dataset."
   ]
  },
  {
   "cell_type": "code",
   "execution_count": 1,
   "metadata": {},
   "outputs": [],
   "source": [
    "from ucimlrepo import fetch_ucirepo\n",
    "\n",
    "# fetch dataset \n",
    "iris = fetch_ucirepo(id=53)"
   ]
  },
  {
   "cell_type": "code",
   "execution_count": 2,
   "metadata": {},
   "outputs": [],
   "source": [
    "# fetch dataset \n",
    "iris = fetch_ucirepo(id=53)"
   ]
  },
  {
   "cell_type": "markdown",
   "metadata": {},
   "source": [
    "[Pandas](https://pandas.pydata.org/) is an open source software library used in data analytics that allows data analysis and manipulation. A Pandas DataFrame as a dictionary like container for Series objects. A DataFrame is the primary Pandas data structure."
   ]
  },
  {
   "cell_type": "code",
   "execution_count": 3,
   "metadata": {},
   "outputs": [],
   "source": [
    "# data (as pandas dataframes) \n",
    "iris_ds_features = iris.data.features \n",
    "iris_ds_targets = iris.data.targets\n",
    "\n",
    "# add the 'class' variable from iris_ds_targets variable into the iris_ds_features Pandas DataFrame\n",
    "iris_ds_features['class'] = iris_ds_targets['class']"
   ]
  },
  {
   "cell_type": "markdown",
   "metadata": {},
   "source": [
    "To confirm the DataFrame data structure the built-in *type* function in Python is be used. "
   ]
  },
  {
   "cell_type": "code",
   "execution_count": 4,
   "metadata": {},
   "outputs": [
    {
     "name": "stdout",
     "output_type": "stream",
     "text": [
      "<class 'pandas.core.frame.DataFrame'>\n"
     ]
    }
   ],
   "source": [
    "print(type(iris_ds_features))"
   ]
  },
  {
   "cell_type": "code",
   "execution_count": 5,
   "metadata": {},
   "outputs": [],
   "source": [
    "# rename the DataFrame Columns\n",
    "# Or rename the existing DataFrame (rather than creating a copy) \n",
    "iris_ds_features.rename(columns={'oldName1': 'newName1', 'oldName2': 'newName2'}, inplace=True)"
   ]
  },
  {
   "cell_type": "markdown",
   "metadata": {},
   "source": [
    "## Background Reading <a id=\"background-reading\"></a>\n",
    "\n",
    "Ekiz, A. (2023). Creating Table of Contents in Jupyter Notebook. [online] Medium. Available at: https://medium.com/@ahmetekiz/creating-table-of-contents-in-jupyter-notebook-52a7c696817f [Accessed 11 Oct. 2023].\n",
    "\n",
    "https://digital.library.adelaide.edu.au/dspace/bitstream/2440/15227/1/138.pdf  [accessed 11 Oct. 2023].\n",
    "\n",
    "Pandas (2018). Python Data Analysis Library — pandas: Python Data Analysis Library. [online] Pydata.org. Available at: https://pandas.pydata.org/. [Accessed 13 Oct. 2023].\n",
    "\n",
    "Stack Overflow. (n.d.). python - Renaming column names in Pandas. [online] Available at: https://stackoverflow.com/questions/11346283/renaming-column-names-in-pandas. [Accessed 13 Oct. 2023].\n",
    "\n",
    "Wikipedia. (2023). Edgar Anderson. [online] Available at: https://en.wikipedia.org/wiki/Edgar_Anderson [Accessed 11 Oct. 2023].\n",
    "\n",
    "Wikipedia Contributors (2019). Iris flower data set. [online] Wikipedia. Available at: https://en.wikipedia.org/wiki/Iris_flower_data_set. [Accessed 11 Oct. 2023].\n",
    "‌\n",
    "Wikipedia Contributors (2019). Ronald Fisher. [online] Wikipedia. Available at: https://en.wikipedia.org/wiki/Ronald_Fisher. [Accessed 11 Oct. 2023]."
   ]
  }
 ],
 "metadata": {
  "kernelspec": {
   "display_name": "Python 3 (ipykernel)",
   "language": "python",
   "name": "python3"
  },
  "language_info": {
   "codemirror_mode": {
    "name": "ipython",
    "version": 3
   },
   "file_extension": ".py",
   "mimetype": "text/x-python",
   "name": "python",
   "nbconvert_exporter": "python",
   "pygments_lexer": "ipython3",
   "version": "3.11.4"
  }
 },
 "nbformat": 4,
 "nbformat_minor": 2
}
