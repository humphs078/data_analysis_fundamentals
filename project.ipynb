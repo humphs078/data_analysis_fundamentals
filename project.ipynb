{
 "cells": [
  {
   "cell_type": "markdown",
   "metadata": {},
   "source": [
    "# Fundamentals of Data Analysis Project Notebook - Iris Dataset Analysis\n",
    "Author - Sean Humphreys\n",
    "\n",
    "---\n",
    "\n",
    "### Contents\n",
    "\n",
    "1. [Problem Statement](#problem-statement)\n",
    "2. [Background](#background)\n",
    "4. [Pandas](#pandas)\n",
    "5. [Dataset Inspection](#dataset-inspection)\n",
    "    1. [Data Quality](#data-quality)\n",
    "    2. [Dataset Variables](#dataset-variables)\n",
    "6. [Dataset Summary](#dataset-summary)\n",
    "    1. [Nominal Variable](#nominal-variable---species)\n",
    "    2. [Continuous Variables](#continuous-variables)\n",
    "7. [Data Visualisation](#data-visualisation)\n",
    "    1. [Categorical Variable](#categorical-variable)\n",
    "    2. [Numerical Variables](#numerical-variables)\n",
    "3. [Background Reading](#background-reading)\n",
    "\n",
    "---"
   ]
  },
  {
   "cell_type": "markdown",
   "metadata": {},
   "source": [
    "## Problem Statement <a id=\"problem-statement\"></a>\n",
    "\n",
    "- create a notebook investigating the variables and data points within the well-known iris flower data set associated with Ronald A Fisher.\n",
    "- in the notebook, you should discuss the classification of each variable within the data set according to common variable types and scales of measurement in mathematics, statistics, and Python.\n",
    "- Select, demonstrate, and explain the most appropriate summary statistics to describe each variable.\n",
    "- Select, demonstrate, and explain the most appropriate plot(s) for each variable\n",
    "- The notebook should follow a cohesive narrative about the data set.\n",
    "---"
   ]
  },
  {
   "cell_type": "markdown",
   "metadata": {},
   "source": [
    "## Background <a id=\"background\"></a>\n",
    "\n",
    "The [Iris Data Set (https://en.wikipedia.org/wiki/Iris_flower_data_set)](https://en.wikipedia.org/wiki/Iris_flower_data_set) is a data set that consists 50 samples from \n",
    "three species of Iris - Iris-setosa, Iris-virginica and Iris-versicolor. Each sample contains 4 measurements:\n",
    "1. Petal width\n",
    "2. Petal length\n",
    "3. Sepal width\n",
    "4. Sepal length\n",
    "\n",
    "This data set is an example of a multivariate data set and was popularised by statistician and biologist [Sir Ronald\n",
    "Fisher (https://en.wikipedia.org/wiki/Ronald_Fisher)](https://en.wikipedia.org/wiki/Ronald_Fisher) in his 1936 paper entitled \n",
    "[*\"The use of multiple measurements in taxonomic problems\"* (https://digital.library.adelaide.edu.au/dspace/bitstream/2440/15227/1/138.pdf)](https://digital.library.adelaide.edu.au/dspace/bitstream/2440/15227/1/138.pdf)\n",
    ". The data was collected by [Dr. Edgar Anderson (https://en.wikipedia.org/wiki/Edgar_Anderson)](https://en.wikipedia.org/wiki/Edgar_Anderson) from the Gaspé Peninsula in Canada. Two of the three species were collected from the same meadow, by the same person, using standard equipment \n",
    "in order to minimise the risk of variation in the data samples arising from the way in which it was collected and \n",
    "measured. Dr. Anderson is recognised as a significant contributor in the field of botanical genetics.\n",
    "\n",
    "As can be seen from the picture below the appearance of each species is similar. Sir Fisher's Analysis of the data set\n",
    "enabled accurate classification of the species from petal and sepal measurement and as a result the data set is \n",
    "routinely used as a beginners dataset for machine learning purposes.\n",
    "\n",
    "![image 1](images/illustrations/Iris_Image.png \"Iris Species\")\n",
    "\n",
    "---"
   ]
  },
  {
   "cell_type": "markdown",
   "metadata": {},
   "source": [
    "## Pandas <a id=\"pandas\"></a>\n",
    "\n",
    "Using *Python*, import the Iris dataset."
   ]
  },
  {
   "cell_type": "code",
   "execution_count": 1,
   "metadata": {},
   "outputs": [],
   "source": [
    "from ucimlrepo import fetch_ucirepo\n",
    "\n",
    "# fetch dataset \n",
    "iris = fetch_ucirepo(id=53)"
   ]
  },
  {
   "cell_type": "markdown",
   "metadata": {},
   "source": [
    "[Pandas (https://pandas.pydata.org/)](https://pandas.pydata.org/) is an open source software library used in data analytics that allows data analysis and manipulation. Pandas is built on top of the *Python* programming language. A Pandas DataFrame is a dictionary like container for Series objects. A DataFrame is the primary Pandas data structure. Using Pandas it is possible to define variables to put the Iris dataset into Pandas DataFrames."
   ]
  },
  {
   "cell_type": "code",
   "execution_count": 2,
   "metadata": {},
   "outputs": [],
   "source": [
    "# data (as pandas dataframes) \n",
    "iris_ds_features = iris.data.features \n",
    "iris_ds_targets = iris.data.targets"
   ]
  },
  {
   "cell_type": "markdown",
   "metadata": {},
   "source": [
    "To confirm the DataFrame data structure, the built-in *type* function in Python is used. "
   ]
  },
  {
   "cell_type": "code",
   "execution_count": 3,
   "metadata": {},
   "outputs": [
    {
     "name": "stdout",
     "output_type": "stream",
     "text": [
      "<class 'pandas.core.frame.DataFrame'>\n",
      "<class 'pandas.core.frame.DataFrame'>\n"
     ]
    }
   ],
   "source": [
    "print(type(iris_ds_features))\n",
    "print(type(iris_ds_targets))"
   ]
  },
  {
   "cell_type": "markdown",
   "metadata": {},
   "source": [
    "A benefit of using Pandas is that it can be used to make datasets readable. In this instance Pandas is used to combine the two datasets into one DataFrame and rename the columns. Further cleaning of the dataset is carried out to remove the \"*Iris-*\" string from the species entries so that just the subgenus is left as a string in the species column."
   ]
  },
  {
   "cell_type": "code",
   "execution_count": 4,
   "metadata": {},
   "outputs": [],
   "source": [
    "# add the 'class' variable from iris_ds_targets variable into the iris_ds_features Pandas DataFrame\n",
    "iris_ds_features['class'] = iris_ds_targets['class']\n",
    "\n",
    "# rename the existing DataFrame (rather than creating a copy) \n",
    "iris_ds_features.rename(columns={'sepal length': 'sepal_length_cm', 'sepal width': 'sepal_width_cm', 'petal length': 'petal_length_cm', 'petal width': 'petal_width_cm', 'class': 'species'},  inplace=True)\n",
    "\n",
    "# remove \"Iris-\" string from species entries - https://www.statology.org/pandas-remove-characters-from-string/ [Accessed 13 Oct. 2023]\n",
    "iris_ds_features['species'] = iris_ds_features['species'].str.replace('Iris-', '')"
   ]
  },
  {
   "cell_type": "markdown",
   "metadata": {},
   "source": [
    "---"
   ]
  },
  {
   "cell_type": "markdown",
   "metadata": {},
   "source": [
    "## Dataset Inspection <a id=\"dataset-inspection\"></a>"
   ]
  },
  {
   "cell_type": "markdown",
   "metadata": {},
   "source": [
    "### Data Quality <a id=\"data-quality\"></a>"
   ]
  },
  {
   "cell_type": "markdown",
   "metadata": {},
   "source": [
    "Using the `isnull()` chained with the `sum()` method the dataset can be inspected for missing values. The output indicates no missing values in the dataset."
   ]
  },
  {
   "cell_type": "code",
   "execution_count": 5,
   "metadata": {},
   "outputs": [
    {
     "data": {
      "text/plain": [
       "sepal_length_cm    0\n",
       "sepal_width_cm     0\n",
       "petal_length_cm    0\n",
       "petal_width_cm     0\n",
       "species            0\n",
       "dtype: int64"
      ]
     },
     "execution_count": 5,
     "metadata": {},
     "output_type": "execute_result"
    }
   ],
   "source": [
    "# https://www.geeksforgeeks.org/python-basics-of-pandas-using-iris-dataset/ [Accessed 13 Oct. 2023].\n",
    "iris_ds_features.isnull().sum()"
   ]
  },
  {
   "cell_type": "markdown",
   "metadata": {},
   "source": [
    "### Dataset Variables <a id=\"dataset-variables\"></a>"
   ]
  },
  {
   "cell_type": "markdown",
   "metadata": {},
   "source": [
    "Using the Pandas `head()` method the first 5 lines of the DataFrame can be viewed. From the output 5 variables are identified within the Iris Data"
   ]
  },
  {
   "cell_type": "code",
   "execution_count": 6,
   "metadata": {},
   "outputs": [
    {
     "data": {
      "text/html": [
       "<div>\n",
       "<style scoped>\n",
       "    .dataframe tbody tr th:only-of-type {\n",
       "        vertical-align: middle;\n",
       "    }\n",
       "\n",
       "    .dataframe tbody tr th {\n",
       "        vertical-align: top;\n",
       "    }\n",
       "\n",
       "    .dataframe thead th {\n",
       "        text-align: right;\n",
       "    }\n",
       "</style>\n",
       "<table border=\"1\" class=\"dataframe\">\n",
       "  <thead>\n",
       "    <tr style=\"text-align: right;\">\n",
       "      <th></th>\n",
       "      <th>sepal_length_cm</th>\n",
       "      <th>sepal_width_cm</th>\n",
       "      <th>petal_length_cm</th>\n",
       "      <th>petal_width_cm</th>\n",
       "      <th>species</th>\n",
       "    </tr>\n",
       "  </thead>\n",
       "  <tbody>\n",
       "    <tr>\n",
       "      <th>0</th>\n",
       "      <td>5.1</td>\n",
       "      <td>3.5</td>\n",
       "      <td>1.4</td>\n",
       "      <td>0.2</td>\n",
       "      <td>setosa</td>\n",
       "    </tr>\n",
       "    <tr>\n",
       "      <th>1</th>\n",
       "      <td>4.9</td>\n",
       "      <td>3.0</td>\n",
       "      <td>1.4</td>\n",
       "      <td>0.2</td>\n",
       "      <td>setosa</td>\n",
       "    </tr>\n",
       "    <tr>\n",
       "      <th>2</th>\n",
       "      <td>4.7</td>\n",
       "      <td>3.2</td>\n",
       "      <td>1.3</td>\n",
       "      <td>0.2</td>\n",
       "      <td>setosa</td>\n",
       "    </tr>\n",
       "    <tr>\n",
       "      <th>3</th>\n",
       "      <td>4.6</td>\n",
       "      <td>3.1</td>\n",
       "      <td>1.5</td>\n",
       "      <td>0.2</td>\n",
       "      <td>setosa</td>\n",
       "    </tr>\n",
       "    <tr>\n",
       "      <th>4</th>\n",
       "      <td>5.0</td>\n",
       "      <td>3.6</td>\n",
       "      <td>1.4</td>\n",
       "      <td>0.2</td>\n",
       "      <td>setosa</td>\n",
       "    </tr>\n",
       "  </tbody>\n",
       "</table>\n",
       "</div>"
      ],
      "text/plain": [
       "   sepal_length_cm  sepal_width_cm  petal_length_cm  petal_width_cm species\n",
       "0              5.1             3.5              1.4             0.2  setosa\n",
       "1              4.9             3.0              1.4             0.2  setosa\n",
       "2              4.7             3.2              1.3             0.2  setosa\n",
       "3              4.6             3.1              1.5             0.2  setosa\n",
       "4              5.0             3.6              1.4             0.2  setosa"
      ]
     },
     "execution_count": 6,
     "metadata": {},
     "output_type": "execute_result"
    }
   ],
   "source": [
    "iris_ds_features.head()"
   ]
  },
  {
   "cell_type": "markdown",
   "metadata": {},
   "source": [
    "Information on the data types in the Iris dataset is displayed with the following code (GitHub, 2023)."
   ]
  },
  {
   "cell_type": "code",
   "execution_count": 7,
   "metadata": {},
   "outputs": [
    {
     "data": {
      "text/html": [
       "<div>\n",
       "<style scoped>\n",
       "    .dataframe tbody tr th:only-of-type {\n",
       "        vertical-align: middle;\n",
       "    }\n",
       "\n",
       "    .dataframe tbody tr th {\n",
       "        vertical-align: top;\n",
       "    }\n",
       "\n",
       "    .dataframe thead th {\n",
       "        text-align: right;\n",
       "    }\n",
       "</style>\n",
       "<table border=\"1\" class=\"dataframe\">\n",
       "  <thead>\n",
       "    <tr style=\"text-align: right;\">\n",
       "      <th></th>\n",
       "      <th>name</th>\n",
       "      <th>role</th>\n",
       "      <th>type</th>\n",
       "      <th>demographic</th>\n",
       "      <th>description</th>\n",
       "      <th>units</th>\n",
       "      <th>missing_values</th>\n",
       "    </tr>\n",
       "  </thead>\n",
       "  <tbody>\n",
       "    <tr>\n",
       "      <th>0</th>\n",
       "      <td>sepal length</td>\n",
       "      <td>Feature</td>\n",
       "      <td>Continuous</td>\n",
       "      <td>None</td>\n",
       "      <td>None</td>\n",
       "      <td>cm</td>\n",
       "      <td>no</td>\n",
       "    </tr>\n",
       "    <tr>\n",
       "      <th>1</th>\n",
       "      <td>sepal width</td>\n",
       "      <td>Feature</td>\n",
       "      <td>Continuous</td>\n",
       "      <td>None</td>\n",
       "      <td>None</td>\n",
       "      <td>cm</td>\n",
       "      <td>no</td>\n",
       "    </tr>\n",
       "    <tr>\n",
       "      <th>2</th>\n",
       "      <td>petal length</td>\n",
       "      <td>Feature</td>\n",
       "      <td>Continuous</td>\n",
       "      <td>None</td>\n",
       "      <td>None</td>\n",
       "      <td>cm</td>\n",
       "      <td>no</td>\n",
       "    </tr>\n",
       "    <tr>\n",
       "      <th>3</th>\n",
       "      <td>petal width</td>\n",
       "      <td>Feature</td>\n",
       "      <td>Continuous</td>\n",
       "      <td>None</td>\n",
       "      <td>None</td>\n",
       "      <td>cm</td>\n",
       "      <td>no</td>\n",
       "    </tr>\n",
       "    <tr>\n",
       "      <th>4</th>\n",
       "      <td>class</td>\n",
       "      <td>Target</td>\n",
       "      <td>Categorical</td>\n",
       "      <td>None</td>\n",
       "      <td>class of iris plant: Iris Setosa, Iris Versico...</td>\n",
       "      <td>None</td>\n",
       "      <td>no</td>\n",
       "    </tr>\n",
       "  </tbody>\n",
       "</table>\n",
       "</div>"
      ],
      "text/plain": [
       "           name     role         type demographic  \\\n",
       "0  sepal length  Feature   Continuous        None   \n",
       "1   sepal width  Feature   Continuous        None   \n",
       "2  petal length  Feature   Continuous        None   \n",
       "3   petal width  Feature   Continuous        None   \n",
       "4         class   Target  Categorical        None   \n",
       "\n",
       "                                         description units missing_values  \n",
       "0                                               None    cm             no  \n",
       "1                                               None    cm             no  \n",
       "2                                               None    cm             no  \n",
       "3                                               None    cm             no  \n",
       "4  class of iris plant: Iris Setosa, Iris Versico...  None             no  "
      ]
     },
     "execution_count": 7,
     "metadata": {},
     "output_type": "execute_result"
    }
   ],
   "source": [
    "iris.variables"
   ]
  },
  {
   "cell_type": "markdown",
   "metadata": {},
   "source": [
    "Information on the datatypes in the Iris dataset is summarised using the `info()` method (www.w3schools.com, n.d.)."
   ]
  },
  {
   "cell_type": "code",
   "execution_count": 8,
   "metadata": {},
   "outputs": [
    {
     "name": "stdout",
     "output_type": "stream",
     "text": [
      "<class 'pandas.core.frame.DataFrame'>\n",
      "RangeIndex: 150 entries, 0 to 149\n",
      "Data columns (total 5 columns):\n",
      " #   Column           Non-Null Count  Dtype  \n",
      "---  ------           --------------  -----  \n",
      " 0   sepal_length_cm  150 non-null    float64\n",
      " 1   sepal_width_cm   150 non-null    float64\n",
      " 2   petal_length_cm  150 non-null    float64\n",
      " 3   petal_width_cm   150 non-null    float64\n",
      " 4   species          150 non-null    object \n",
      "dtypes: float64(4), object(1)\n",
      "memory usage: 6.0+ KB\n"
     ]
    }
   ],
   "source": [
    "iris_ds_features.info()"
   ]
  },
  {
   "cell_type": "markdown",
   "metadata": {},
   "source": [
    "Variable classification determines the type of analysis that can be carried out on that variable. The graphic below summarises the types of data and how they can be analysed. \n",
    "\n",
    "![Data Summary](images/illustrations/data_categories_18102023_sh.png \"Data Summary Graphic\")\n",
    "\n",
    "Summarised from Sharma, 2020\n",
    "\n",
    "Levels of measurement tell how precisely variables are recorded (Bhandari, 2020) and are summarised as follows:\n",
    "\n",
    "| Level             | Description                                                                   |\n",
    "| :-----------      | :----------                                                                   |\n",
    "| Nominal           | The data can only be categorized                                              |\n",
    "| Ordinal           | The data can be categorized and ranked                                        |\n",
    "| Interval          | The data can be categorized, ranked, and evenly spaced                        |\n",
    "| Ratio             | The data can be categorized, ranked, evenly spaced, and has a natural zero    |\n",
    "\n",
    "Applying data type classification and levels of measurement the Iris dataset variables can be summarised as follows:\n",
    "\n",
    "| Variable          | Classification    | Type          | Python Dtype  | Unit of Measure   | Level of Measure  |\n",
    "| :----------       | :----------       | :----------   | :----------   | :---------        | :---------        |\n",
    "| sepal length      | Numerical         | Continuous    | float64       | cm                | Ratio             |\n",
    "| sepal width       | Numerical         | Continuous    | float64       | cm                | Ratio             |\n",
    "| petal length      | Numerical         | Continuous    | float64       | cm                | Ratio             |\n",
    "| petal width       | Numerical         | Continuous    | float64       | cm                | Ratio             |\n",
    "| species           | Categorical       | Nominal       | Object        | N/A               | Nominal           |\n",
    "\n",
    "The above summaries of the Iris data set variables indicate the following:\n",
    "1. Sepal length, sepal width, petal length and petal width are continuous data types with ratio level of measurement. As per Sharma (2020), the mathematical operations that can be performed on continuous data include addition, subtraction, multiplication and division on fractions and decimals. Thus, these 4 variables are suitable for complex statistical analysis.\n",
    "2. Sepal length, sepal width, petal length and petal width and 64-bit are stored in memory as 64bit floating point numbers. 64-bit datatypes allow for a hgh degree of precision. However, use of 64-bit precision comes at a cost of computational overhead as more memory is required to complete calculations on these numbers due to their size.\n",
    "3. The species variable is a categorical data type with a nominal level of measurement. The only analysis that can be carried out on it is counts of objects.\n",
    "4. The species variable is stored in the Pandas DataFrame as an object. The Pandas object datatype is used to store text or mixed numeric and non-numeric values (Moffitt, 2018).\n",
    "\n",
    "---"
   ]
  },
  {
   "cell_type": "markdown",
   "metadata": {},
   "source": [
    "## Dataset Summary <a id=\"dataset-summary\"></a>\n",
    "\n",
    "### Nominal Variable <a id=\"nominal-variable\"></a>\n",
    "\n",
    "As *species* is a nominal variable, analysis of this variable is limited to counts of objects. The only measure of central tendency for this variable type is the mode (Corporate Finance Institute, n.d.). The mode is the value that appears most often in a set. Using the `value_counts()` method it is possible to count the number of unique occurrences on an object."
   ]
  },
  {
   "cell_type": "code",
   "execution_count": 9,
   "metadata": {},
   "outputs": [
    {
     "data": {
      "text/plain": [
       "species\n",
       "setosa        50\n",
       "versicolor    50\n",
       "virginica     50\n",
       "Name: count, dtype: int64"
      ]
     },
     "execution_count": 9,
     "metadata": {},
     "output_type": "execute_result"
    }
   ],
   "source": [
    "iris_ds_features['species'].value_counts()\n"
   ]
  },
  {
   "cell_type": "markdown",
   "metadata": {},
   "source": [
    "The *species* variable can be described as tri-modal as each of the species occurs 50 times."
   ]
  },
  {
   "cell_type": "code",
   "execution_count": 10,
   "metadata": {},
   "outputs": [
    {
     "data": {
      "text/plain": [
       "0        setosa\n",
       "1    versicolor\n",
       "2     virginica\n",
       "Name: species, dtype: object"
      ]
     },
     "execution_count": 10,
     "metadata": {},
     "output_type": "execute_result"
    }
   ],
   "source": [
    "iris_ds_features['species'].mode()"
   ]
  },
  {
   "cell_type": "markdown",
   "metadata": {},
   "source": [
    "### Continuous Variables <a id=\"continuous-variables\"></a>\n",
    "\n",
    "Sepal length, sepal width, petal length and petal width are continuous variables. Complex mathematical operations can be carried out on these variables. The *Pandas* `describe()` returns a summary of the variables (MungingData, 2021):\n"
   ]
  },
  {
   "cell_type": "code",
   "execution_count": 11,
   "metadata": {},
   "outputs": [
    {
     "data": {
      "text/html": [
       "<div>\n",
       "<style scoped>\n",
       "    .dataframe tbody tr th:only-of-type {\n",
       "        vertical-align: middle;\n",
       "    }\n",
       "\n",
       "    .dataframe tbody tr th {\n",
       "        vertical-align: top;\n",
       "    }\n",
       "\n",
       "    .dataframe thead th {\n",
       "        text-align: right;\n",
       "    }\n",
       "</style>\n",
       "<table border=\"1\" class=\"dataframe\">\n",
       "  <thead>\n",
       "    <tr style=\"text-align: right;\">\n",
       "      <th></th>\n",
       "      <th>sepal_length_cm</th>\n",
       "      <th>sepal_width_cm</th>\n",
       "      <th>petal_length_cm</th>\n",
       "      <th>petal_width_cm</th>\n",
       "    </tr>\n",
       "  </thead>\n",
       "  <tbody>\n",
       "    <tr>\n",
       "      <th>count</th>\n",
       "      <td>150.000000</td>\n",
       "      <td>150.000000</td>\n",
       "      <td>150.000000</td>\n",
       "      <td>150.000000</td>\n",
       "    </tr>\n",
       "    <tr>\n",
       "      <th>mean</th>\n",
       "      <td>5.843333</td>\n",
       "      <td>3.054000</td>\n",
       "      <td>3.758667</td>\n",
       "      <td>1.198667</td>\n",
       "    </tr>\n",
       "    <tr>\n",
       "      <th>std</th>\n",
       "      <td>0.828066</td>\n",
       "      <td>0.433594</td>\n",
       "      <td>1.764420</td>\n",
       "      <td>0.763161</td>\n",
       "    </tr>\n",
       "    <tr>\n",
       "      <th>min</th>\n",
       "      <td>4.300000</td>\n",
       "      <td>2.000000</td>\n",
       "      <td>1.000000</td>\n",
       "      <td>0.100000</td>\n",
       "    </tr>\n",
       "    <tr>\n",
       "      <th>25%</th>\n",
       "      <td>5.100000</td>\n",
       "      <td>2.800000</td>\n",
       "      <td>1.600000</td>\n",
       "      <td>0.300000</td>\n",
       "    </tr>\n",
       "    <tr>\n",
       "      <th>50%</th>\n",
       "      <td>5.800000</td>\n",
       "      <td>3.000000</td>\n",
       "      <td>4.350000</td>\n",
       "      <td>1.300000</td>\n",
       "    </tr>\n",
       "    <tr>\n",
       "      <th>75%</th>\n",
       "      <td>6.400000</td>\n",
       "      <td>3.300000</td>\n",
       "      <td>5.100000</td>\n",
       "      <td>1.800000</td>\n",
       "    </tr>\n",
       "    <tr>\n",
       "      <th>max</th>\n",
       "      <td>7.900000</td>\n",
       "      <td>4.400000</td>\n",
       "      <td>6.900000</td>\n",
       "      <td>2.500000</td>\n",
       "    </tr>\n",
       "  </tbody>\n",
       "</table>\n",
       "</div>"
      ],
      "text/plain": [
       "       sepal_length_cm  sepal_width_cm  petal_length_cm  petal_width_cm\n",
       "count       150.000000      150.000000       150.000000      150.000000\n",
       "mean          5.843333        3.054000         3.758667        1.198667\n",
       "std           0.828066        0.433594         1.764420        0.763161\n",
       "min           4.300000        2.000000         1.000000        0.100000\n",
       "25%           5.100000        2.800000         1.600000        0.300000\n",
       "50%           5.800000        3.000000         4.350000        1.300000\n",
       "75%           6.400000        3.300000         5.100000        1.800000\n",
       "max           7.900000        4.400000         6.900000        2.500000"
      ]
     },
     "execution_count": 11,
     "metadata": {},
     "output_type": "execute_result"
    }
   ],
   "source": [
    "iris_ds_features.describe()"
   ]
  },
  {
   "cell_type": "markdown",
   "metadata": {},
   "source": [
    "The **mean** value is expressed mathematically where the mean is the sum of the values divided by the number of values:\n",
    "\n",
    "$\\bar X= \\frac{\\Sigma X}{n}$\n",
    "\n",
    "**std** is the standard deviation. Standard deviation is a measure of how dispersed the data is in relation to the mean (National Library of Medicine, 2012). It can be thought of as how spread around the mean the data is. A small standard deviation and the data is tightly clustered around the mean, while a large standard deviation data points are further from the mean. The standard deviation expressed mathematically is:\n",
    "\n",
    "$s = \\sqrt{\\frac {\\sum_{i=1}^N (x_i - \\overline{x})^2}{N-1}}$\n",
    "\n",
    "The *median* or middle is reported at the 50% value in the above python output. The 25% and 75% values are the $1^{st}$ and $3^{rd}$ quartile values. The $1^{st}$ & $3^{rd}$ quartiles can be used to identify outlier values in the dataset, this will be explored further in [Data Visualisation]()."
   ]
  },
  {
   "cell_type": "markdown",
   "metadata": {},
   "source": [
    "The mode of the continuous variables can be reported:"
   ]
  },
  {
   "cell_type": "code",
   "execution_count": 12,
   "metadata": {},
   "outputs": [
    {
     "data": {
      "text/html": [
       "<div>\n",
       "<style scoped>\n",
       "    .dataframe tbody tr th:only-of-type {\n",
       "        vertical-align: middle;\n",
       "    }\n",
       "\n",
       "    .dataframe tbody tr th {\n",
       "        vertical-align: top;\n",
       "    }\n",
       "\n",
       "    .dataframe thead th {\n",
       "        text-align: right;\n",
       "    }\n",
       "</style>\n",
       "<table border=\"1\" class=\"dataframe\">\n",
       "  <thead>\n",
       "    <tr style=\"text-align: right;\">\n",
       "      <th></th>\n",
       "      <th>sepal_length_cm</th>\n",
       "      <th>sepal_width_cm</th>\n",
       "      <th>petal_length_cm</th>\n",
       "      <th>petal_width_cm</th>\n",
       "    </tr>\n",
       "  </thead>\n",
       "  <tbody>\n",
       "    <tr>\n",
       "      <th>0</th>\n",
       "      <td>5.0</td>\n",
       "      <td>3.0</td>\n",
       "      <td>1.5</td>\n",
       "      <td>0.2</td>\n",
       "    </tr>\n",
       "  </tbody>\n",
       "</table>\n",
       "</div>"
      ],
      "text/plain": [
       "   sepal_length_cm  sepal_width_cm  petal_length_cm  petal_width_cm\n",
       "0              5.0             3.0              1.5             0.2"
      ]
     },
     "execution_count": 12,
     "metadata": {},
     "output_type": "execute_result"
    }
   ],
   "source": [
    "iris_ds_features[['sepal_length_cm', 'sepal_width_cm', 'petal_length_cm', 'petal_width_cm']].mode()\n"
   ]
  },
  {
   "cell_type": "markdown",
   "metadata": {},
   "source": [
    "Of note, there is an issue caused by limitations in the way in which Python performs floating point arithmetic (docs.python.org, n.d.). Floating point numbers are stored in memory as base 2 binary fractions. Most decimal fractions cannot be represented exactly as binary fractions. Thus decimal floating-point numbers are only approximated by the binary floating-point numbers actually stored in the machine. This has the potential to cause inaccuracies when arithmetic is performed on floating point numbers in Python. In the Iris dataset *sepal length*, *sepal width*, *petal length* and *petal width* are stored in the Pandas DataFrame as 64bit floating point numbers. This allows for a high degree of precision and will somewhat mitigate the issue outlined above, albeit at the cost of a computational overhead due to the larger size of this datatype.\n",
    "\n",
    "The importance of precision is demonstrated by comparing the table below to the output of the `describe()` method above.\n",
    "![Iris dataset summary](images/tables/data_summary.png 'High Precision Summary')\n",
    "\n",
    "The mean petal width measurement is being shown to precision of 6 decimal places in the python output. However, it appears that the last number is being rounded up to 7 when compared to the table above. Therefore, 1.198667 is an approximation of the mean petal width. Performing the same arithmetic on both numbers will give different results as they are different numbers. This may seem insignificant, however, could lead to inaccurate model development."
   ]
  },
  {
   "cell_type": "markdown",
   "metadata": {},
   "source": [
    "## Data Visualisation <a id=\"data-visualisation\"></a>\n",
    "\n",
    "\n"
   ]
  },
  {
   "cell_type": "markdown",
   "metadata": {},
   "source": [
    "[*Matplotlib* (https://matplotlib.org/stable/)](https://matplotlib.org/stable/) is an opensource software library for creating static, animated, and interactive visualizations. [*Seaborn* (https://seaborn.pydata.org/)](https://seaborn.pydata.org/) is based on matplotlib and provides more advanced data visualisation. These software libraries allow for data visualisation using python."
   ]
  },
  {
   "cell_type": "code",
   "execution_count": 13,
   "metadata": {},
   "outputs": [],
   "source": [
    "# import matplotlib\n",
    "import matplotlib.pyplot as plt\n",
    "\n",
    "# import seaborn as sns\n",
    "import seaborn as sns"
   ]
  },
  {
   "cell_type": "markdown",
   "metadata": {},
   "source": [
    "### Categorical Variable <a id=\"categorical-variable\"></a>"
   ]
  },
  {
   "cell_type": "markdown",
   "metadata": {},
   "source": [
    "The value counts of the *species* variable can be visualised as bar chart."
   ]
  },
  {
   "cell_type": "code",
   "execution_count": 14,
   "metadata": {},
   "outputs": [
    {
     "data": {
      "image/png": "[encoded data removed]",
      "text/plain": [
       "<Figure size 700x500 with 1 Axes>"
      ]
     },
     "metadata": {},
     "output_type": "display_data"
    }
   ],
   "source": [
    "plt.rcParams['figure.figsize'] = (7,5)\n",
    "\n",
    "\n",
    "iris_ds_features['species'].value_counts().plot(kind = 'bar', linewidth = 1, edgecolor = 'k')\n",
    "plt.title('Iris Species Counts')\n",
    "plt.xlabel('Species')\n",
    "plt.ylabel('count')\n",
    "plt.xticks(rotation = 360)\n",
    "plt.show()"
   ]
  },
  {
   "cell_type": "markdown",
   "metadata": {},
   "source": [
    "Visualising the data in this way gives no insight into the data. However, visualising the continuous variables by species is more informative. "
   ]
  },
  {
   "cell_type": "markdown",
   "metadata": {},
   "source": [
    "### Numerical Variables <a id=\"numerical-variables\"></a>\n",
    "\n",
    "Visualising the dataset by species allows deeper insight into the dataset.\n",
    "\n",
    "Outliers, the median, mean and upper and lower quartiles can be viewed using boxplots. Outliers are described as objects that \n",
    "deviate significantly from the rest for the objects. Outliers can be caused by a number of things including measurement error, sampling problems and natural variation (Singh, 2020). The outliers are visible on **[Plot 1](images/plots/box_plots/box_plots.png)** as diamonds. The mean value ois demonstrated by the clear circle marker."
   ]
  },
  {
   "cell_type": "code",
   "execution_count": 19,
   "metadata": {},
   "outputs": [
    {
     "data": {
      "image/png": "[encoded data removed]",
      "text/plain": [
       "<Figure size 1000x1000 with 4 Axes>"
      ]
     },
     "metadata": {},
     "output_type": "display_data"
    }
   ],
   "source": [
    "# function to pass arguments to sns.boxplot method\n",
    "def graph(y):\n",
    "    sns.boxplot(x=\"species\", y=y, data=iris_ds_features, showmeans=True, meanprops={'marker':'o', 'markerfacecolor':'white',\n",
    "                'markeredgecolor':'black', 'markersize':'8'})\n",
    "\n",
    "# plot size\n",
    "plt.figure(figsize=(10, 10))\n",
    "plt.suptitle('Iris Data Set Box Plots', size=15)\n",
    "\n",
    "# Adding the subplot at the specified grid position\n",
    "plt.subplot(221)\n",
    "graph('sepal_length_cm')\n",
    "\n",
    "plt.subplot(222)\n",
    "graph('sepal_width_cm')\n",
    "\n",
    "plt.subplot(223)\n",
    "graph('petal_length_cm')\n",
    "\n",
    "plt.subplot(224)\n",
    "graph('petal_width_cm')"
   ]
  },
  {
   "cell_type": "markdown",
   "metadata": {},
   "source": [
    "## References <a id=\"references\"></a>\n",
    "\n",
    "Bhandari, P. (2020). Levels of Measurement | Nominal, Ordinal, Interval and Ratio. [online] Scribbr. Available at: https://www.scribbr.com/statistics/levels-of-measurement/. [Accessed 18 Oct. 2023].\n",
    "\n",
    "Corporate Finance Institute. (n.d.). Nominal Data. [online] Available at: https://corporatefinanceinstitute.com/resources/data-science/nominal-data/. [Accessed 4 Nov. 2023].\n",
    "\n",
    "docs.python.org. (n.d.). 15. Floating Point Arithmetic: Issues and Limitations — Python 3.10.1 documentation. [online] Available at: https://docs.python.org/3/tutorial/floatingpoint.html. [Accessed 18 Oct. 2023].\n",
    "\n",
    "GitHub. (2023). ucimlrepo package. [online] Available at: https://github.com/uci-ml-repo/ucimlrepo [Accessed 20 Oct. 2023].\n",
    "\n",
    "Moffitt, C. (2018). Overview of Pandas Data Types - Practical Business Python. [online] pbpython.com. Available at: https://pbpython.com/pandas_dtypes.html. [Accessed 6 Nov. 2023].\n",
    "\n",
    "National Library of Medicine (2012). Finding and using health statistics. [online] www.nlm.nih.gov. Available at: https://www.nlm.nih.gov/oet/ed/stats/02-900.html. [Accessed 4 Nov. 2023].\n",
    "\n",
    "Sharma, R. (2020). 4 Types of Data: Nominal, Ordinal, Discrete, Continuous. [online] upGrad blog. Available at: https://www.upgrad.com/blog/types-of-data/. [Accessed 18 Oct. 2023].\n",
    "\n",
    "Singh, R. (2020). It’s all about Outliers. [online] Medium. Available at: https://medium.com/analytics-vidhya/its-all-about-outliers-cbe172aa1309. [Accessed 6 Nov. 2023].\n",
    "\n",
    "www.w3schools.com. (n.d.). Pandas DataFrame info() Method. [online] Available at: https://www.w3schools.com/python/pandas/ref_df_info.asp. [Accessed 20 Oct. 2023].\n",
    "\n",
    "---"
   ]
  },
  {
   "cell_type": "markdown",
   "metadata": {},
   "source": [
    "## Associated Reading <a id=\"background-reading\"></a>\n",
    "\n",
    "archive.ics.uci.edu. (n.d.). UCI Machine Learning Repository. [online] Available at: https://archive.ics.uci.edu/dataset/53/iris. [Accessed 12 Oct. 2023].\n",
    "\n",
    "Ekiz, A. (2023). Creating Table of Contents in Jupyter Notebook. [online] Medium. Available at: https://medium.com/@ahmetekiz/creating-table-of-contents-in-jupyter-notebook-52a7c696817f [Accessed 11 Oct. 2023].\n",
    "\n",
    "GeeksforGeeks. (2020). Python - Basics of Pandas using Iris Dataset. [online] Available at: https://www.geeksforgeeks.org/python-basics-of-pandas-using-iris-dataset/. [Accessed 13 Oct. 2023].\n",
    "\n",
    "https://digital.library.adelaide.edu.au/dspace/bitstream/2440/15227/1/138.pdf  [accessed 11 Oct. 2023].\n",
    "\n",
    "kaggle.com. (n.d.). How to Classify Penguins - A Beginner’s Guide. [online] Available at: https://www.kaggle.com/code/mohamedharris/how-to-classify-penguins-a-beginner-s-guide [Accessed 6 Nov. 2023].\n",
    "\n",
    "matplotlib.org. (n.d.). Matplotlib documentation — Matplotlib 3.5.0 documentation. [online] Available at: https://matplotlib.org/stable/. [Accessed 6 Nov. 2023].\n",
    "\n",
    "Pandas (2018). Python Data Analysis Library — pandas: Python Data Analysis Library. [online] Pydata.org. Available at: https://pandas.pydata.org/. [Accessed 13 Oct. 2023].\n",
    "\n",
    "pandas.pydata.org. (n.d.). pandas.DataFrame.value_counts — pandas 1.4.1 documentation. [online] Available at: https://pandas.pydata.org/docs/reference/api/pandas.DataFrame.value_counts.html. [Accessed 04 Nov. 2023].\n",
    "\n",
    "seaborn (2012). seaborn: statistical data visualization — seaborn 0.9.0 documentation. [online] Pydata.org. Available at: https://seaborn.pydata.org/. [Accessed 6 Nov. 2023].\n",
    "\n",
    "Scribbr. (n.d.). Can there be more than one mode? [online] Available at: https://www.scribbr.com/frequently-asked-questions/can-there-be-more-than-one-mode/. [Accessed 04 Nov. 2023]\n",
    "\n",
    "sphweb.bumc.bu.edu. (n.d.). Descriptive Statistics for Continuous Variables. [online] Available at: https://sphweb.bumc.bu.edu/otlt/mph-modules/bs/bs704_summarizingdata/BS704_SummarizingData5.html.\n",
    "\n",
    "Stack Overflow. (n.d.). python - Renaming column names in Pandas. [online] Available at: https://stackoverflow.com/questions/11346283/renaming-column-names-in-pandas. [Accessed 13 Oct. 2023]. [Accessed 04 Nov. 2023].\n",
    "\n",
    "Wikipedia. (2023). Edgar Anderson. [online] Available at: https://en.wikipedia.org/wiki/Edgar_Anderson [Accessed 11 Oct. 2023].\n",
    "\n",
    "Wikipedia Contributors (2019). Iris flower data set. [online] Wikipedia. Available at: https://en.wikipedia.org/wiki/Iris_flower_data_set. [Accessed 11 Oct. 2023].\n",
    "‌\n",
    "Wikipedia Contributors (2019). Ronald Fisher. [online] Wikipedia. Available at: https://en.wikipedia.org/wiki/Ronald_Fisher. [Accessed 11 Oct. 2023].\n",
    "\n",
    "www.overleaf.com. (n.d.). List of Greek letters and math symbols. [online] Available at: https://www.overleaf.com/learn/latex/List_of_Greek_letters_and_math_symbols. [Accessed 4 Nov. 2023].\n",
    "\n",
    "Zach (2022). Pandas: How to Remove Specific Characters from Strings. [online] Statology. Available at: https://www.statology.org/pandas-remove-characters-from-string/. [Acessed 13 Oct. 2023].\n",
    "\n",
    "---"
   ]
  },
  {
   "cell_type": "markdown",
   "metadata": {},
   "source": [
    "End of notebook"
   ]
  }
 ],
 "metadata": {
  "kernelspec": {
   "display_name": "Python 3 (ipykernel)",
   "language": "python",
   "name": "python3"
  },
  "language_info": {
   "codemirror_mode": {
    "name": "ipython",
    "version": 3
   },
   "file_extension": ".py",
   "mimetype": "text/x-python",
   "name": "python",
   "nbconvert_exporter": "python",
   "pygments_lexer": "ipython3",
   "version": "3.11.5"
  }
 },
 "nbformat": 4,
 "nbformat_minor": 2
}
