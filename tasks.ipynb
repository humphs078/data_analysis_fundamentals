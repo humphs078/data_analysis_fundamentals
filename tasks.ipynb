{
 "cells": [
  {
   "cell_type": "markdown",
   "metadata": {},
   "source": [
    "# Fundamentals of Data Analysis Tasks Notebook\n",
    "\n",
    "Author - Sean Humphreys\n",
    "\n",
    "---\n",
    "\n",
    "## Contents\n",
    "\n",
    "1. [Task 1 - Collatz Conjecture](#task-1---collatz-conjecture)\n",
    "    1. [Step 1 - Test the Collatz Conjecture](#step-1---test-collatz-conjecture)\n",
    "    2. [Step 2 - Test a Range of Input Values](#step-2---test-a-range-of-input-values)\n",
    "    3. [Step 3 - Tell the User the Result](#step-3---tell-the-user-the-result)\n",
    "    4. [Step 4 - Make the Script Re-Usable](#step-4---make-the-script-re-useable)\n",
    "    5. [Task 1 References](#task-1-references)\n",
    "    6. [Task 1 Background Reading](#task-1-background-reading)\n",
    "\n",
    "\n",
    "2. [Task 2 - Penguins Dataset](#task-2---penguins-dataset)\n",
    "    1. [Dataset Variables](#dataset-variables)\n",
    "        1. [Variable Classification](#variable-classification)\n",
    "        2. [Missing Values](#missing-values)\n",
    "    2. [Variable Selection](#variable-selection)\n",
    "    3. [Conclusion](#conclusion)\n",
    "    2. [Task 2 References](#task-2-references)\n",
    "    3. [Task 2 Background Reading](#task-2-background-reading)\n",
    "\n",
    "3. [Task 3 - Penguins Probability Distribution](#task-3---penguins-probability-distribution)\n",
    "    1. [Sex Variable](#sex-variable)\n",
    "    2. [Island and Species Variables](#island-and-species-variable)\n",
    "    3. [Numerical Variables](#numerical-variables)\n",
    "        1. [Adelie Penguins](#adelie-penguins)\n",
    "        2. [Chinstrap Penguins](#chinstrap-penguins)\n",
    "        3. [Gentoo Penguins](#gentoo-penguins)\n",
    "    1. [Task 3 References](#task-3-references)\n",
    "    2. [Task 3 Background Reading](#task-3-background-reading)\n",
    "\n",
    "4. [Task 4 - Coin Toss Entropy](#task-4---coin-toss-entropy)\n",
    "    1. [Coin Toss Probability](#coin-toss-probability)\n",
    "    2."
   ]
  },
  {
   "cell_type": "markdown",
   "metadata": {},
   "source": [
    "## Task 1 - Collatz Conjecture <a id=\"task-1---collatz-conjecture\"></a>\n",
    "----\n",
    "\n",
    "Task 1 - *Verify, using Python, that the conjecture is true for the first 10,000 positive integers.*\n",
    "\n",
    "Often thought of as the simplest impossible problem the Collatz Conjecture asks whether repeating two simple arithmetic operations will eventually transform every positive integer into 1.\n",
    "\n",
    "The mathematical expression of the Collatz Function is:\n",
    "\n",
    "$f(n) = \\begin{cases} n/2 &\\text{if } n = \\text{even} \\\\\n",
    "(3n +1)/2 & \\text{if } n = \\text{odd} \\end{cases}$\n",
    "\n",
    "\n",
    "**Assumptions**\n",
    "- If the Collatz conjecture for a positive integer holds true, the Collatz sequence for the number will always end in an infinite loop of 4, 2, 1 - this includes the numbers 1 and 2.\n",
    "- The script should indicate to the end user if the Collatz Conjecture holds true for the desired range of positive integers.\n",
    "- If the Collatz conjecture does not hold true for any values, the script should return the values that do not hold true.\n",
    "- For usability purposes the script should be able to handle any range of input values not just the first 10,000 positive integers.\n",
    "- The script will not run if negative integers, floating point decimals or strings are entered as arguments.\n",
    "- If these values are entered as arguments the script will give clear instruction to the end user of the correct format for arguments to be entered."
   ]
  },
  {
   "cell_type": "markdown",
   "metadata": {},
   "source": [
    "### Step 1 - Test Collatz Conjecture <a id=\"step-1---test-collatz-conjecture\"></a>\n",
    "\n",
    "Define a function to test the Collatz conjecture. \n",
    "\n",
    "This function is based on a code snippet accessible at https://www.educative.io/answers/how-to-generate-the-collatz-sequence-in-python, last accessed 06/10/2023. \n",
    "\n",
    "The purpose of the `collatz(number)` function is to return the Collatz sequence, in a list, for a given positive integer. If the Collatz Conjecture does not hold true for that number, a list containing the given number is returned. To achieve this the Collatz sequence for the given number is tested against a list that contains the numbers 4, 2, 1 - as per the assumption that every Collatz sequence must end in a 4, 2, 1 loop.\n",
    "\n",
    "The code snippet upon which the function is based calculates the the Collatz sequence for the number 1 as [1] and number 2 as [2, 1]. This creates an issue in so far as the sequence for the numbers 1 and 2 cannot be tested against the [4, 2, 1] loop. To allow for this, an *if* and *elif* statement are used to return the Collatz sequence for the numbers 1 and 2 that include the 4, 2, 1 loop. All other values passed as an argument to the function are divided by 2 if even or if odd they multiplied by 3 and 1 is added to this number. The returned value is appended to a list. A *while* loop is employed to continue this until the output of these mathematical operations reaches 1.\n",
    "\n",
    "The *collatz_sequence_list* generated by the while loop is tested for Collatz compliance by comparing the last three numbers in this list against the *loop_list*. If false an *if* statement returns the *wrong_list*. If true, the function returns the *collatz_sequence_list*."
   ]
  },
  {
   "cell_type": "code",
   "execution_count": 1,
   "metadata": {},
   "outputs": [],
   "source": [
    "def collatz(number):\n",
    "    collatz_sequence_list = []\n",
    "    wrong_list = []\n",
    "    loop_list = [4, 2, 1]\n",
    "    if number == 1:\n",
    "        # to test 1 the 4,2,1 loop needs to be included to test against\n",
    "        collatz_sequence_list = [1, 4, 2, 1]\n",
    "    elif number == 2:\n",
    "        # to test 2 the 4,2,1 loop needs to be included to test against\n",
    "        collatz_sequence_list = [2, 4, 2, 1]\n",
    "    else:\n",
    "        collatz_sequence_list.append(number)\n",
    "        while (number != 1):\n",
    "            if (number % 2 == 0):\n",
    "                number = number//2\n",
    "                collatz_sequence_list.append(number)\n",
    "            else:\n",
    "                number = number*3+1\n",
    "                collatz_sequence_list.append(number)\n",
    "    if loop_list != collatz_sequence_list[-3:]:\n",
    "        wrong_list.append(collatz_sequence_list[0])\n",
    "        return wrong_list\n",
    "    else:\n",
    "        return collatz_sequence_list"
   ]
  },
  {
   "cell_type": "markdown",
   "metadata": {},
   "source": [
    "The output of the `collatz(number)` function is tested below. For the purpose of this test, number = 57."
   ]
  },
  {
   "cell_type": "code",
   "execution_count": 2,
   "metadata": {},
   "outputs": [
    {
     "name": "stdout",
     "output_type": "stream",
     "text": [
      "[57, 172, 86, 43, 130, 65, 196, 98, 49, 148, 74, 37, 112, 56, 28, 14, 7, 22, 11, 34, 17, 52, 26, 13, 40, 20, 10, 5, 16, 8, 4, 2, 1]\n"
     ]
    }
   ],
   "source": [
    "print(collatz(57))"
   ]
  },
  {
   "cell_type": "markdown",
   "metadata": {},
   "source": [
    "### Step 2 - Test a Range of Input Values <a id=\"step-2---test-a-range-of-input-values\"></a>\n",
    "\n",
    "Define a function to test a range of values. \n",
    "\n",
    "Using a *for* loop, every value in a given range of values can be inputted into the into the `collatz(number)` function. There are two possible outcomes that must be accounted for:\n",
    "1. The number does not satisfy the Collatz conjecture. In this outcome a list 1 number long is returned.\n",
    "2. The number does satisfy the Collatz conjecture. In this outcome a list longer than 1 number is returned.\n",
    "\n",
    "Each of these outcomes is handled separately. Two functions are defined to achieve this."
   ]
  },
  {
   "cell_type": "markdown",
   "metadata": {},
   "source": [
    "1. The `wrong_list(lower, upper)` function uses a *for* loop to check the length of the list returned from the `collatz(number)` function for every value in the desired range. If the length of the returned list is 1, i.e. the Collatz conjecture does not hold true for that number, that number is appended to a list and returned by the function on completion of the *for* loop."
   ]
  },
  {
   "cell_type": "code",
   "execution_count": 3,
   "metadata": {},
   "outputs": [],
   "source": [
    "def wrong_list(lower, upper):\n",
    "    wrong_list = []\n",
    "    for i in range(lower, upper):\n",
    "        if len(collatz(i)) == 1:\n",
    "            wrong_list.append(i)\n",
    "    return (wrong_list)"
   ]
  },
  {
   "cell_type": "markdown",
   "metadata": {},
   "source": [
    "2. The `right_list(lower, upper)` function uses a *for* loop to check the length of the list returned from the `collatz(number)` function for every value in the desired range. If the length of the returned list is greater than 1, i.e. the Collatz conjecture is true for that number, that number is appended to a list and the returned by the function on completion of the *for* loop."
   ]
  },
  {
   "cell_type": "code",
   "execution_count": 4,
   "metadata": {},
   "outputs": [],
   "source": [
    "def right_list(lower, upper):\n",
    "    right_list = []\n",
    "    for i in range(lower, upper):\n",
    "        if len(collatz(i)) > 1:\n",
    "            right_list.append(i)\n",
    "    return (right_list)"
   ]
  },
  {
   "cell_type": "markdown",
   "metadata": {},
   "source": [
    "### Step 3 - Tell the User the Result <a id=\"step-3---tell-the-user-the-result\"></a>\n",
    "\n",
    "Define a function to tell the user the vales for which the Collatz conjecture does or does not hold true for in a given range.\n",
    "\n",
    "The input arguments for this function are the lower and upper values for the range of values to be tested.\n",
    "\n",
    "4 variables are defined:\n",
    "1. wrong_list_var = a list containing the output of the `wrong_list(lower, upper)` function for the range of values given as arguments \n",
    "2. right_list_var = a list containing the output of the `right_list(lower, upper)` function for the range of values given as arguments \n",
    "3. string = string to be printed\n",
    "4. result = list comprehension to print a list of lists without brackets\n",
    "\n",
    "If the length of the list returned from `wrong_list(lowest_number, highest_number)` is greater than 1 the concatenated *string* and *result* variables will be printed. Else, if, the length of the list returned from `right_list(lowest_number, highest_number)` is greater than 1 a formatted string that confirms the Collatz conjecture for the given range of values to be tested is printed."
   ]
  },
  {
   "cell_type": "code",
   "execution_count": 5,
   "metadata": {},
   "outputs": [],
   "source": [
    "def result(lowest_number, highest_number):\n",
    "    wrong_list_var = wrong_list(lowest_number, highest_number)\n",
    "    right_list_var = right_list(lowest_number, highest_number)\n",
    "    string = 'The numbers that Collatz Conjecture does not hold true for are: '\n",
    "    result = ', '.join(str(item) for item in wrong_list_var)\n",
    "    if len(wrong_list_var) > 0:\n",
    "        print(string + result)\n",
    "    elif len(right_list_var) > 0:\n",
    "        print(\n",
    "            f'The Collatz Conjecture holds true for the numbers from {lowest_number} up to and including {highest_number-1}.')"
   ]
  },
  {
   "cell_type": "markdown",
   "metadata": {},
   "source": [
    "The `result(lowest_number, highest number)` function output is demonstrated below for the first 10,000 positive integers."
   ]
  },
  {
   "cell_type": "code",
   "execution_count": 6,
   "metadata": {},
   "outputs": [
    {
     "name": "stdout",
     "output_type": "stream",
     "text": [
      "The Collatz Conjecture holds true for the numbers from 1 up to and including 10000.\n"
     ]
    }
   ],
   "source": [
    "result(1,10001)"
   ]
  },
  {
   "cell_type": "markdown",
   "metadata": {},
   "source": [
    "### Step 4 - Make the Script Re-useable <a id=\"step-4---make-the-script-re-useable\"></a>\n",
    "\n",
    "Importing the sys library will allow for better re-useability of the script. The script can be run from the command line with the range of values to be tested passed as arguments from the command line."
   ]
  },
  {
   "cell_type": "code",
   "execution_count": 7,
   "metadata": {},
   "outputs": [],
   "source": [
    "import sys"
   ]
  },
  {
   "cell_type": "markdown",
   "metadata": {},
   "source": [
    "The following variables are defined and casted to integers:\n",
    "1. low_number = sys.argv[1]. sys.argv[1] is the first argument passed from the command line. This should be the start of the range to test. The risk is that the user enters a negative value, a floating point integer or a string.  \n",
    "2. high_number = sys.argv[2] + 1. sys.argv[2] is the second argument passed from the command line. This should be the end of the range to be test. 1 is added to this value. The risk is that the user enters a negative value, a floating point integer, a string or a value that is lower than sys.argv[1].\n",
    "\n",
    "To mitigate against the risks outlined above a combination of error handling, *if*, *elif* and *else* statements are used. The code contained in the *try* block will run unless a *ValueError* or an *IndexError* are caught. If this happens instructions are printed advising the user of the corrective action to take on re-run of the script. If no error is caught the `result(low_number, high_number)` function will test the range of values given as command line arguments only if the *low_number* value is a positive integer that is less than the *high_number* variable."
   ]
  },
  {
   "cell_type": "code",
   "execution_count": 8,
   "metadata": {},
   "outputs": [
    {
     "name": "stdout",
     "output_type": "stream",
     "text": [
      "Please enter a positive integer as an argument.\n"
     ]
    }
   ],
   "source": [
    "try:\n",
    "    low_number = int(sys.argv[1]) # cast to int\n",
    "    high_number = int(sys.argv[2]) + 1 # need to add 1 for desired range\n",
    "    if low_number > 0 and low_number < high_number:\n",
    "        result(low_number, high_number)\n",
    "    elif low_number > 0 and high_number < low_number:\n",
    "        print(f'{high_number} is lower than {low_number}. The script requires that the second argument is greater than'\n",
    "              f' the first. Please run the script again with the correct parameters.')\n",
    "    else:\n",
    "        print(f'{low_number} is not a positive integer. Please run the script again and enter a positive integer as '\n",
    "              f'an argument.')\n",
    "except ValueError: # error handling\n",
    "    print(f'Please enter a positive integer as an argument.')\n",
    "except IndexError: # error handling\n",
    "    print('Please enter two command line arguments. The arguments must be positive integers with the first number '\n",
    "          f'less than the second number.')"
   ]
  },
  {
   "cell_type": "markdown",
   "metadata": {},
   "source": [
    "In the execution of the code above error handling is demonstrated. As the *low_number* variable is not a positive integer the *ValueError* code block is executed.  "
   ]
  },
  {
   "cell_type": "markdown",
   "metadata": {},
   "source": [
    "### Task 1 References <a id=\"task-1-references\"></a>\n",
    "\n",
    "Educative: Interactive Courses for Software Developers. (n.d.). How to generate the Collatz sequence in Python. [online] Available at: https://www.educative.io/answers/how-to-generate-the-collatz-sequence-in-python. [accessed 06 Oct. 2023].\n"
   ]
  },
  {
   "cell_type": "markdown",
   "metadata": {},
   "source": [
    "### Task 1 Background Reading <a id=\"task-1-background-reading\"></a>\n",
    "\n",
    "bobbyhadz.com. (n.d.). Print a List without the Commas and Brackets in Python | bobbyhadz. [online] Available at: https://bobbyhadz.com/blog/python-print-list-without-commas-and-brackets [Accessed 6 Oct. 2023].\n",
    "\n",
    "Chaudhuri, D.A.K. (2020). Collatz Conjecture-the simplest impossible problem. [online] Cooking Cosmos. Available at: https://asischaudhuri.wordpress.com/2020/11/09/collatz-conjecture/ [Accessed 6 Oct. 2023].\n",
    "\n",
    "Machine Intelligence ? (2008). LaTeX – Multiline equations, systems and matrices. [online] Available at: https://kogler.wordpress.com/2008/03/21/latex-multiline-equations-systems-and-matrices/ [Accessed 6 Oct. 2023].\n",
    "\n",
    "www.w3schools.com. (n.d.). Python Try Except. [online] Available at: https://www.w3schools.com/python/python_try_except.asp. [Accessed 6 Oct. 2023].\n",
    "\n",
    "---"
   ]
  },
  {
   "cell_type": "markdown",
   "metadata": {},
   "source": [
    "## Task 2 - Penguins Dataset <a id=\"task-2---penguins-dataset\"></a>\n",
    "---\n",
    "\n",
    "Task 2 - *Give an overview of the famous penguins data set, explaining the types of variables it contains. Suggest the types of variables that should be used to model them in Python, explaining your rationale.*\n",
    "\n",
    "The **Penguins** dataset contains size measurements for three penguin species observed on three islands in the Palmer Archipelago, Antarctica. The data was collected as part of the Palmer Station, Antarctica, Long-Term Ecological Research program and is also known as the Palmer Penguins dataset. The research paper on the Palmer Penguins dataset by Gorman, Williams and Fraser (2014) is available at https://journals.plos.org/plosone/article?id=10.1371/journal.pone.0090081#s2.\n",
    "\n",
    "![image 1](images/illustrations/penguins.png \"Palmer Penguins\")\n",
    "\n",
    "Mednick, 2021"
   ]
  },
  {
   "cell_type": "markdown",
   "metadata": {},
   "source": [
    "### Dataset Variables <a id=\"dataset-variables\"></a>\n",
    "\n",
    "Using *Python* the penguins dataset is imported. To do this the *Pandas* and *Seaborn* libraries are imported.\n",
    "\n",
    "[Pandas](https://pandas.pydata.org/) is an open source software library used in data analytics that allows data analysis and manipulation. Pandas is built on top of the *Python* programming language. A Pandas DataFrame is a dictionary like container for Series objects. A DataFrame is the primary Pandas data structure. Using Pandas it is possible to define variables to put the Iris dataset into Pandas DataFrames.\n",
    "\n",
    "[Seaborn](https://seaborn.pydata.org/) is an open-source software package used for visualisation of statistical data. It is based on on *matplotlib*."
   ]
  },
  {
   "cell_type": "code",
   "execution_count": 9,
   "metadata": {},
   "outputs": [],
   "source": [
    "# import the required software libraries\n",
    "import pandas as pd\n",
    "import seaborn as sns\n",
    "penguins = sns.load_dataset('penguins')"
   ]
  },
  {
   "cell_type": "markdown",
   "metadata": {},
   "source": [
    "Conveniently, the Palmer Penguins dataset is available in *Seaborn*. Once loaded, the `info()` function can be used to inspect the dataset."
   ]
  },
  {
   "cell_type": "code",
   "execution_count": 10,
   "metadata": {},
   "outputs": [
    {
     "name": "stdout",
     "output_type": "stream",
     "text": [
      "<class 'pandas.core.frame.DataFrame'>\n",
      "RangeIndex: 344 entries, 0 to 343\n",
      "Data columns (total 7 columns):\n",
      " #   Column             Non-Null Count  Dtype  \n",
      "---  ------             --------------  -----  \n",
      " 0   species            344 non-null    object \n",
      " 1   island             344 non-null    object \n",
      " 2   bill_length_mm     342 non-null    float64\n",
      " 3   bill_depth_mm      342 non-null    float64\n",
      " 4   flipper_length_mm  342 non-null    float64\n",
      " 5   body_mass_g        342 non-null    float64\n",
      " 6   sex                333 non-null    object \n",
      "dtypes: float64(4), object(3)\n",
      "memory usage: 18.9+ KB\n"
     ]
    }
   ],
   "source": [
    "penguins = sns.load_dataset('penguins')\n",
    "\n",
    "# check penguins is a pandas DataFrame\n",
    "penguins.info()"
   ]
  },
  {
   "cell_type": "markdown",
   "metadata": {},
   "source": [
    "The summary above demonstrates the class as a *Pandas* DataFrame. There are 344 rows and seven columns in the dataset. The data is a combination of objects (columns 0, 1 & 6) and 64-bit floating point numbers (columns 2, 3, 4 & 5). 64-bit datatypes allow for a hgh degree of precision. However, use of 64-bit precision comes at a cost of computational overhead as more memory is required to complete calculations on these numbers due to their size.\n",
    "\n",
    "#### Variable Classification <a id=\"variable-classification\"></a>\n",
    "\n",
    "Variable classification determines the type of analysis that can be carried out on that variable. The graphic below summarises the types of data and how they can be analysed. \n",
    "\n",
    "![Data Summary](images/illustrations/data_categories_18102023_sh.png \"Data Summary Graphic\")\n",
    "\n",
    "Summarised from Sharma, 2020\n",
    "\n",
    "The first 5 rows of the DataFrame can be viewed using the `head()` function. This is supports data variable classification and allows an understanding of the column headers and DataFrame indexing.\n"
   ]
  },
  {
   "cell_type": "code",
   "execution_count": 11,
   "metadata": {},
   "outputs": [
    {
     "data": {
      "text/html": [
       "<div>\n",
       "<style scoped>\n",
       "    .dataframe tbody tr th:only-of-type {\n",
       "        vertical-align: middle;\n",
       "    }\n",
       "\n",
       "    .dataframe tbody tr th {\n",
       "        vertical-align: top;\n",
       "    }\n",
       "\n",
       "    .dataframe thead th {\n",
       "        text-align: right;\n",
       "    }\n",
       "</style>\n",
       "<table border=\"1\" class=\"dataframe\">\n",
       "  <thead>\n",
       "    <tr style=\"text-align: right;\">\n",
       "      <th></th>\n",
       "      <th>species</th>\n",
       "      <th>island</th>\n",
       "      <th>bill_length_mm</th>\n",
       "      <th>bill_depth_mm</th>\n",
       "      <th>flipper_length_mm</th>\n",
       "      <th>body_mass_g</th>\n",
       "      <th>sex</th>\n",
       "    </tr>\n",
       "  </thead>\n",
       "  <tbody>\n",
       "    <tr>\n",
       "      <th>0</th>\n",
       "      <td>Adelie</td>\n",
       "      <td>Torgersen</td>\n",
       "      <td>39.1</td>\n",
       "      <td>18.7</td>\n",
       "      <td>181.0</td>\n",
       "      <td>3750.0</td>\n",
       "      <td>Male</td>\n",
       "    </tr>\n",
       "    <tr>\n",
       "      <th>1</th>\n",
       "      <td>Adelie</td>\n",
       "      <td>Torgersen</td>\n",
       "      <td>39.5</td>\n",
       "      <td>17.4</td>\n",
       "      <td>186.0</td>\n",
       "      <td>3800.0</td>\n",
       "      <td>Female</td>\n",
       "    </tr>\n",
       "    <tr>\n",
       "      <th>2</th>\n",
       "      <td>Adelie</td>\n",
       "      <td>Torgersen</td>\n",
       "      <td>40.3</td>\n",
       "      <td>18.0</td>\n",
       "      <td>195.0</td>\n",
       "      <td>3250.0</td>\n",
       "      <td>Female</td>\n",
       "    </tr>\n",
       "    <tr>\n",
       "      <th>3</th>\n",
       "      <td>Adelie</td>\n",
       "      <td>Torgersen</td>\n",
       "      <td>NaN</td>\n",
       "      <td>NaN</td>\n",
       "      <td>NaN</td>\n",
       "      <td>NaN</td>\n",
       "      <td>NaN</td>\n",
       "    </tr>\n",
       "    <tr>\n",
       "      <th>4</th>\n",
       "      <td>Adelie</td>\n",
       "      <td>Torgersen</td>\n",
       "      <td>36.7</td>\n",
       "      <td>19.3</td>\n",
       "      <td>193.0</td>\n",
       "      <td>3450.0</td>\n",
       "      <td>Female</td>\n",
       "    </tr>\n",
       "  </tbody>\n",
       "</table>\n",
       "</div>"
      ],
      "text/plain": [
       "  species     island  bill_length_mm  bill_depth_mm  flipper_length_mm  \\\n",
       "0  Adelie  Torgersen            39.1           18.7              181.0   \n",
       "1  Adelie  Torgersen            39.5           17.4              186.0   \n",
       "2  Adelie  Torgersen            40.3           18.0              195.0   \n",
       "3  Adelie  Torgersen             NaN            NaN                NaN   \n",
       "4  Adelie  Torgersen            36.7           19.3              193.0   \n",
       "\n",
       "   body_mass_g     sex  \n",
       "0       3750.0    Male  \n",
       "1       3800.0  Female  \n",
       "2       3250.0  Female  \n",
       "3          NaN     NaN  \n",
       "4       3450.0  Female  "
      ]
     },
     "execution_count": 11,
     "metadata": {},
     "output_type": "execute_result"
    }
   ],
   "source": [
    "# print the first five rows of the dataset\n",
    "penguins.head()"
   ]
  },
  {
   "cell_type": "markdown",
   "metadata": {},
   "source": [
    "The last 5 rows of the DataFrame can be viewed using the `tail()` function. This supports a visual inspection of the DataFrame assisting possible cleanup of the DataFrame."
   ]
  },
  {
   "cell_type": "code",
   "execution_count": 12,
   "metadata": {},
   "outputs": [
    {
     "data": {
      "text/html": [
       "<div>\n",
       "<style scoped>\n",
       "    .dataframe tbody tr th:only-of-type {\n",
       "        vertical-align: middle;\n",
       "    }\n",
       "\n",
       "    .dataframe tbody tr th {\n",
       "        vertical-align: top;\n",
       "    }\n",
       "\n",
       "    .dataframe thead th {\n",
       "        text-align: right;\n",
       "    }\n",
       "</style>\n",
       "<table border=\"1\" class=\"dataframe\">\n",
       "  <thead>\n",
       "    <tr style=\"text-align: right;\">\n",
       "      <th></th>\n",
       "      <th>species</th>\n",
       "      <th>island</th>\n",
       "      <th>bill_length_mm</th>\n",
       "      <th>bill_depth_mm</th>\n",
       "      <th>flipper_length_mm</th>\n",
       "      <th>body_mass_g</th>\n",
       "      <th>sex</th>\n",
       "    </tr>\n",
       "  </thead>\n",
       "  <tbody>\n",
       "    <tr>\n",
       "      <th>339</th>\n",
       "      <td>Gentoo</td>\n",
       "      <td>Biscoe</td>\n",
       "      <td>NaN</td>\n",
       "      <td>NaN</td>\n",
       "      <td>NaN</td>\n",
       "      <td>NaN</td>\n",
       "      <td>NaN</td>\n",
       "    </tr>\n",
       "    <tr>\n",
       "      <th>340</th>\n",
       "      <td>Gentoo</td>\n",
       "      <td>Biscoe</td>\n",
       "      <td>46.8</td>\n",
       "      <td>14.3</td>\n",
       "      <td>215.0</td>\n",
       "      <td>4850.0</td>\n",
       "      <td>Female</td>\n",
       "    </tr>\n",
       "    <tr>\n",
       "      <th>341</th>\n",
       "      <td>Gentoo</td>\n",
       "      <td>Biscoe</td>\n",
       "      <td>50.4</td>\n",
       "      <td>15.7</td>\n",
       "      <td>222.0</td>\n",
       "      <td>5750.0</td>\n",
       "      <td>Male</td>\n",
       "    </tr>\n",
       "    <tr>\n",
       "      <th>342</th>\n",
       "      <td>Gentoo</td>\n",
       "      <td>Biscoe</td>\n",
       "      <td>45.2</td>\n",
       "      <td>14.8</td>\n",
       "      <td>212.0</td>\n",
       "      <td>5200.0</td>\n",
       "      <td>Female</td>\n",
       "    </tr>\n",
       "    <tr>\n",
       "      <th>343</th>\n",
       "      <td>Gentoo</td>\n",
       "      <td>Biscoe</td>\n",
       "      <td>49.9</td>\n",
       "      <td>16.1</td>\n",
       "      <td>213.0</td>\n",
       "      <td>5400.0</td>\n",
       "      <td>Male</td>\n",
       "    </tr>\n",
       "  </tbody>\n",
       "</table>\n",
       "</div>"
      ],
      "text/plain": [
       "    species  island  bill_length_mm  bill_depth_mm  flipper_length_mm  \\\n",
       "339  Gentoo  Biscoe             NaN            NaN                NaN   \n",
       "340  Gentoo  Biscoe            46.8           14.3              215.0   \n",
       "341  Gentoo  Biscoe            50.4           15.7              222.0   \n",
       "342  Gentoo  Biscoe            45.2           14.8              212.0   \n",
       "343  Gentoo  Biscoe            49.9           16.1              213.0   \n",
       "\n",
       "     body_mass_g     sex  \n",
       "339          NaN     NaN  \n",
       "340       4850.0  Female  \n",
       "341       5750.0    Male  \n",
       "342       5200.0  Female  \n",
       "343       5400.0    Male  "
      ]
     },
     "execution_count": 12,
     "metadata": {},
     "output_type": "execute_result"
    }
   ],
   "source": [
    "# print the last five rows of the dataset\n",
    "penguins.tail()"
   ]
  },
  {
   "cell_type": "markdown",
   "metadata": {
    "tags": [
     "remove-input"
    ]
   },
   "source": [
    "Levels of measurement tell how precisely variables are recorded (Bhandari, 2020) and are summarised as follows:\n",
    "\n",
    "| Level             | Description                                                                   |\n",
    "| :-----------      | :----------                                                                   |\n",
    "| Nominal           | The data can only be categorized                                              | \n",
    "| Ordinal           | The data can be categorized and ranked                                        | \n",
    "| Interval          | The data can be categorized, ranked, and evenly spaced                        | \n",
    "| Ratio             | The data can be categorized, ranked, evenly spaced, and has a natural zero    | \n",
    "\n",
    "Applying variable classification and level of measurement the Penguins dataset can be summarised as follows:\n",
    "\n",
    "| Variable          | Classification    | Type          | Python Dtype  | Unit of Measure   | Level of Measure  |\n",
    "| :----------       | :----------       | :----------   | :----------   | :---------        | :---------        |\n",
    "| species           | Categorical       | Nominal       | Object        | N/A               | Nominal           |\n",
    "| island            | Categorical       | Nominal       | Object        | N/A               | Nominal           |\n",
    "| bill_length_mm    | Numerical         | Continuous    | float$64$     | mm                | Ratio             |\n",
    "| bill_depth_mm     | Numerical         | Continuous    | float$64$     | mm                | Ratio             |\n",
    "| flipper_length_mm | Numerical         | Continuous    | float$64$     | mm                | Ratio             |\n",
    "| body_mass_g       | Numerical         | Continuous    | float$64$     | g                 | Ratio             |\n",
    "| sex               | Categorical       | Nominal       | Object        | N/A               | Nominal           |"
   ]
  },
  {
   "cell_type": "markdown",
   "metadata": {},
   "source": [
    "#### Missing Values <a id=\"missing-values\"></a>\n",
    "\n",
    "The presence of null values in the dataset is confirmed in the \"Non-Null Count\" column. Columns indexed 2-6 inclusive all have null values as the *Non-Null Count* for these columns is less than $344$. The presence of missing values in any dataset is an issue in so far as it can create a lack of relatability or trustworthiness in the dataset (Kumar, 2021). Consequently, if a strategy to manage missing values during model development is not employed insight could be lost leading to incorrect results (Tamboli, 2021). To summarise the missing values the `isnull()` function is chained with the `sum()` function."
   ]
  },
  {
   "cell_type": "code",
   "execution_count": 13,
   "metadata": {},
   "outputs": [
    {
     "data": {
      "text/plain": [
       "species               0\n",
       "island                0\n",
       "bill_length_mm        2\n",
       "bill_depth_mm         2\n",
       "flipper_length_mm     2\n",
       "body_mass_g           2\n",
       "sex                  11\n",
       "dtype: int64"
      ]
     },
     "execution_count": 13,
     "metadata": {},
     "output_type": "execute_result"
    }
   ],
   "source": [
    "penguins.isnull().sum()"
   ]
  },
  {
   "cell_type": "markdown",
   "metadata": {},
   "source": [
    "### Variable Selection <a id=\"variable-selection\"></a>\n",
    "The *species*, *island* and *sex* variables are categorical variable types that are nominal. The mathematical operations that can be performed on these variables for analysis are limited to counts of objects. Therefore these variables are not suitable to use as variables for modelling in python.\n",
    "\n",
    "These variables can be inspected further using the *Pandas* `unique()` method (practicaldatascience.co.uk, 2022)."
   ]
  },
  {
   "cell_type": "code",
   "execution_count": 14,
   "metadata": {},
   "outputs": [
    {
     "data": {
      "text/plain": [
       "array(['Adelie', 'Chinstrap', 'Gentoo'], dtype=object)"
      ]
     },
     "execution_count": 14,
     "metadata": {},
     "output_type": "execute_result"
    }
   ],
   "source": [
    "penguins['species'].unique()"
   ]
  },
  {
   "cell_type": "markdown",
   "metadata": {},
   "source": [
    "Confirms the presence of 3 species of penguin - *Adelie, Chinstrap and Gentoo*"
   ]
  },
  {
   "cell_type": "code",
   "execution_count": 15,
   "metadata": {},
   "outputs": [
    {
     "data": {
      "text/plain": [
       "array(['Torgersen', 'Biscoe', 'Dream'], dtype=object)"
      ]
     },
     "execution_count": 15,
     "metadata": {},
     "output_type": "execute_result"
    }
   ],
   "source": [
    "penguins[\"island\"].unique()"
   ]
  },
  {
   "cell_type": "markdown",
   "metadata": {},
   "source": [
    "Confirms the presence of 3 islands - *Torgersen, Biscoe & Dream*"
   ]
  },
  {
   "cell_type": "code",
   "execution_count": 16,
   "metadata": {},
   "outputs": [
    {
     "data": {
      "text/plain": [
       "array(['Male', 'Female', nan], dtype=object)"
      ]
     },
     "execution_count": 16,
     "metadata": {},
     "output_type": "execute_result"
    }
   ],
   "source": [
    "penguins['sex'].unique()"
   ]
  },
  {
   "cell_type": "markdown",
   "metadata": {},
   "source": [
    "Confirms the presence of *Male and Female*. *Nan* stands for *not a number* and is also known as a null value."
   ]
  },
  {
   "cell_type": "markdown",
   "metadata": {},
   "source": [
    "Discrete data is a finite value that can be counted as opposed to continuous data that has an infinite number of possible values that can be measured.*Bill length*, *bill depth*, *flipper length* and *body mass* are all numerical variables that are continuous (Todd, 2021).\n",
    "\n",
    "The level of measure is ratio as the units of each of these variables have an absolute zero e.g. mass or length cannot have a negative value. These variables are classed as continuous as there is an infinite number of values between each number on their scale e.g. there are an infinite number of values between $1$mm and $2$mm and there are an infinite number of values between $1$g and $2$g. As per Sharma (2020), the mathematical operations that can be performed on continuous data include fractions and decimals.\n",
    "\n",
    "All of the numerical data in the Penguins dataset are 64-bit floating point numbers. This is an issue, caused by limitations in the way in which Python performs floating point arithmetic (docs.python.org, n.d.). Floating point numbers are stored in memory as base 2 binary fractions. Most decimal fractions cannot be represented exactly as binary fractions. Thus decimal floating-point numbers are only approximated by the binary floating-point numbers actually stored in the machine. This has the potential to cause inaccuracies when arithmetic is performed on floating point numbers in Python. In the *Penguins* dataset *Bill length*, *bill depth*, *flipper length* and *body mass* are stored in Python as 64-bit floating point numbers. This allows for a high degree of precision and will somewhat mitigate the issue outlined above, albeit at the cost of a computational overhead due to the larger size of this datatype.\n",
    "\n",
    "\n",
    "### Conclusion <a id=\"conclusion\"></a>\n",
    "\n",
    "Within the *Penguins* dataset *bill length*, *bill depth*, *flipper length* and *body mass* should be used to model the dataset because:\n",
    "1. These variables are classified as continuous variables.\n",
    "2. The level of measure for these variables is ratio.\n",
    "3. Complex mathematical arithmetic can be performed on these variable types (addition, subtraction, multiplication and division).\n",
    "4. Mode, median, arithmetic mean and geometric mean can be calculated on these data types.\n",
    "5. Range, interquartile range, standard deviation, variance & relative standard deviation can be calculated on these variables.\n",
    "6. Measures of correlation between these variables can be quantified.\n",
    "7. These variables are stored as 64-bit floating point numbers which allows for a high degree of precision in turn allowing for more accurate models to be created.\n",
    "8. Strategies can be adopted to manage the impact of missing values in the dataset when performing models so that the risk of incorrect results, when modelling, is minimised."
   ]
  },
  {
   "cell_type": "markdown",
   "metadata": {},
   "source": [
    "To demonstrate point 5 the python `describe()` method can be used (MungingData, 2021). Mean, median, standard deviation and interquartile percentages are calculated:"
   ]
  },
  {
   "cell_type": "code",
   "execution_count": 17,
   "metadata": {},
   "outputs": [
    {
     "data": {
      "text/html": [
       "<div>\n",
       "<style scoped>\n",
       "    .dataframe tbody tr th:only-of-type {\n",
       "        vertical-align: middle;\n",
       "    }\n",
       "\n",
       "    .dataframe tbody tr th {\n",
       "        vertical-align: top;\n",
       "    }\n",
       "\n",
       "    .dataframe thead th {\n",
       "        text-align: right;\n",
       "    }\n",
       "</style>\n",
       "<table border=\"1\" class=\"dataframe\">\n",
       "  <thead>\n",
       "    <tr style=\"text-align: right;\">\n",
       "      <th></th>\n",
       "      <th>bill_length_mm</th>\n",
       "      <th>bill_depth_mm</th>\n",
       "      <th>flipper_length_mm</th>\n",
       "      <th>body_mass_g</th>\n",
       "    </tr>\n",
       "  </thead>\n",
       "  <tbody>\n",
       "    <tr>\n",
       "      <th>count</th>\n",
       "      <td>342.000000</td>\n",
       "      <td>342.000000</td>\n",
       "      <td>342.000000</td>\n",
       "      <td>342.000000</td>\n",
       "    </tr>\n",
       "    <tr>\n",
       "      <th>mean</th>\n",
       "      <td>43.921930</td>\n",
       "      <td>17.151170</td>\n",
       "      <td>200.915205</td>\n",
       "      <td>4201.754386</td>\n",
       "    </tr>\n",
       "    <tr>\n",
       "      <th>std</th>\n",
       "      <td>5.459584</td>\n",
       "      <td>1.974793</td>\n",
       "      <td>14.061714</td>\n",
       "      <td>801.954536</td>\n",
       "    </tr>\n",
       "    <tr>\n",
       "      <th>min</th>\n",
       "      <td>32.100000</td>\n",
       "      <td>13.100000</td>\n",
       "      <td>172.000000</td>\n",
       "      <td>2700.000000</td>\n",
       "    </tr>\n",
       "    <tr>\n",
       "      <th>25%</th>\n",
       "      <td>39.225000</td>\n",
       "      <td>15.600000</td>\n",
       "      <td>190.000000</td>\n",
       "      <td>3550.000000</td>\n",
       "    </tr>\n",
       "    <tr>\n",
       "      <th>50%</th>\n",
       "      <td>44.450000</td>\n",
       "      <td>17.300000</td>\n",
       "      <td>197.000000</td>\n",
       "      <td>4050.000000</td>\n",
       "    </tr>\n",
       "    <tr>\n",
       "      <th>75%</th>\n",
       "      <td>48.500000</td>\n",
       "      <td>18.700000</td>\n",
       "      <td>213.000000</td>\n",
       "      <td>4750.000000</td>\n",
       "    </tr>\n",
       "    <tr>\n",
       "      <th>max</th>\n",
       "      <td>59.600000</td>\n",
       "      <td>21.500000</td>\n",
       "      <td>231.000000</td>\n",
       "      <td>6300.000000</td>\n",
       "    </tr>\n",
       "  </tbody>\n",
       "</table>\n",
       "</div>"
      ],
      "text/plain": [
       "       bill_length_mm  bill_depth_mm  flipper_length_mm  body_mass_g\n",
       "count      342.000000     342.000000         342.000000   342.000000\n",
       "mean        43.921930      17.151170         200.915205  4201.754386\n",
       "std          5.459584       1.974793          14.061714   801.954536\n",
       "min         32.100000      13.100000         172.000000  2700.000000\n",
       "25%         39.225000      15.600000         190.000000  3550.000000\n",
       "50%         44.450000      17.300000         197.000000  4050.000000\n",
       "75%         48.500000      18.700000         213.000000  4750.000000\n",
       "max         59.600000      21.500000         231.000000  6300.000000"
      ]
     },
     "execution_count": 17,
     "metadata": {},
     "output_type": "execute_result"
    }
   ],
   "source": [
    "penguins.describe()"
   ]
  },
  {
   "cell_type": "markdown",
   "metadata": {},
   "source": [
    "### Task 2 References <a id=\"task-2-references\"></a>\n",
    "\n",
    "Bhandari, P. (2020). Levels of Measurement | Nominal, Ordinal, Interval and Ratio. [online] Scribbr. Available at: https://www.scribbr.com/statistics/levels-of-measurement/. [Accessed 18 Oct. 2023].\n",
    "\n",
    "docs.python.org. (n.d.). 15. Floating Point Arithmetic: Issues and Limitations — Python 3.10.1 documentation. [online] Available at: https://docs.python.org/3/tutorial/floatingpoint.html. [Accessed 18 Oct. 2023].\n",
    "\n",
    "Gorman, K.B., Williams, T.D. and Fraser, W.R. (2014). Ecological Sexual Dimorphism and Environmental Variability within a Community of Antarctic Penguins (Genus Pygoscelis). PLoS ONE, 9(3), p.e90081. doi:https://doi.org/10.1371/journal.pone.0090081. [Accessed 16 Oct. 2023]\n",
    "\n",
    "Kumar, S. (2021). Deep Dive Analysis of Missing Values in Dataset. [online] Medium. Available at: https://towardsdatascience.com/deep-dive-analysis-of-missing-values-in-dataset-b387d9de6d4b. [Accessed 18 Oct. 2023].\n",
    "\n",
    "MungingData. (2021). Exploring DataFrames with summary and describe. [online] Available at: https://mungingdata.com/apache-spark/dataframe-summary-describe/ [Accessed 20 Oct. 2023].\n",
    "\n",
    "PhD, G.M. (2021). Palmer penguins. [online] Gabe Mednick. Available at: https://www.gabemednick.com/post/penguin/ [Accessed 16 Oct. 2023].\n",
    "\n",
    "practicaldatascience.co.uk. (2022). How to identify and count unique values in Pandas. [online] Available at: https://practicaldatascience.co.uk/data-science/how-to-identify-and-count-unique-values-in-pandas [Accessed 25 Oct. 2023].\n",
    "\n",
    "\n",
    "Sharma, R. (2020). 4 Types of Data: Nominal, Ordinal, Discrete, Continuous. [online] upGrad blog. Available at: https://www.upgrad.com/blog/types-of-data/. [Accessed 18 Oct. 2023].\n",
    "\n",
    "Tamboli, N. (2021). Tackling Missing Value in Dataset. [online] Analytics Vidhya. Available at: https://www.analyticsvidhya.com/blog/2021/10/handling-missing-value/. [Accessed 18 Oct. 2023].\n",
    "\n",
    "Todd, S. (2021). Discrete Data vs. Continuous Data: What’s the Difference? | Inzata Analytics. [online] InZata. Available at: https://www.inzata.com/discrete-data-vs-continuous-data-whats-the-difference/.‌ [Accessed 25 Oct. 2023]"
   ]
  },
  {
   "cell_type": "markdown",
   "metadata": {},
   "source": [
    "### Task 2 Background Reading <a id=\"task-2-background-reading\"></a>\n",
    "\n",
    "archive-beta.ics.uci.edu. (n.d.). UCI Machine Learning Repository. [online] Available at: https://archive-beta.ics.uci.edu/dataset/690/palmer+penguins-3 [Accessed 16 Oct. 2023].\n",
    "\n",
    "allisonhorst.github.io. (n.d.). Introduction to palmerpenguins. [online] Available at: https://allisonhorst.github.io/palmerpenguins/articles/intro.html. [Accessed 16 Oct. 2023].\n",
    "\n",
    "Pandas (2018). Python Data Analysis Library — pandas: Python Data Analysis Library. [online] Pydata.org. Available at: https://pandas.pydata.org/. [Accessed 13 Oct. 2023].\n",
    "\n",
    "seaborn (2012). seaborn: statistical data visualization — seaborn 0.9.0 documentation. [online] Pydata.org. Available at: https://seaborn.pydata.org/. [Accessed 17 Oct. 2023].\n",
    "\n",
    "Stack Overflow. (n.d.). The real difference between float32 and float64. [online] Available at: https://stackoverflow.com/questions/43440821/the-real-difference-between-float32-and-float64 [Accessed 17 Oct. 2023].\n",
    "\n",
    "Tsai, E. (2022). Build a Python project using Pandas and Seaborn | Eugene Tsai. [online] Medium. Available at: https://medium.com/@marvelouskgc/build-a-penguin-project-using-pandas-and-seaborn-eugene-tsai-e4b7e0b499ea [Accessed 16 Oct. 2023].\n",
    "\n",
    "www.w3schools.com. (n.d.). Pandas DataFrame head() Method. [online] Available at: https://www.w3schools.com/python/pandas/ref_df_head.asp. [Accessed 16 Oct. 2023].\n",
    "\n",
    "---"
   ]
  },
  {
   "cell_type": "markdown",
   "metadata": {},
   "source": [
    "## Task 3 - Penguins Probability Distribution <a id=\"task-3---penguins-probability-distribution\"></a>\n",
    "\n",
    "**Task** - *For each of the variables in the penguins data set, suggest what probability distribution from the numpy random distributions list is the most appropriate to model the variable.*\n",
    "\n",
    "*\"In probability theory and statistics, a [probability distribution](https://en.wikipedia.org/wiki/Probability_distribution) is the mathematical function that gives the probabilities of occurrence of different possible outcomes for an experiment.\"* (Wikipedia Contributors, 2019)."
   ]
  },
  {
   "cell_type": "markdown",
   "metadata": {},
   "source": [
    "### Sex Variable <a id=\"sex-variable\"></a>\n",
    "\n",
    "As [previously described](#variable-classification) the sex variable in the penguins data set is a categorical data type that is nominal. Consequently, mathematical operations are limited to counts of objects. However, it is possible to use binomial probability distribution to model this variable.\n",
    "\n",
    "*Binomial distribution is a statistical probability distribution that states the likelihood that a value will take one of two independent values under a given set of parameters or assumptions.*(Barone, 2020).\n",
    "Mathematically this function is expressed as:\n",
    "\n",
    "$P(N) = \\binom{n}{N}p^N(1-p)^{n-N}$\n",
    "\n",
    "(Numpy.org, 2021)\n",
    "\n",
    "n = the number of trials, p = the probability of success & N = the number of successes\n",
    "\n",
    "In Python code the syntax is `random.binomial(n, p, size=None)` where n = the number of trials, p = the probability of success & size is the number of trials of the model.\n",
    "\n",
    "To create a random distribution model of the sex variable, using python code, a strategy to manage the null values for that variable must be employed. As [previously demonstrated](#missing-values) there are 11 missing values in the sex column. One option to manage null values is to replace the missing values with the mode for that variable."
   ]
  },
  {
   "cell_type": "code",
   "execution_count": 18,
   "metadata": {},
   "outputs": [
    {
     "data": {
      "text/plain": [
       "sex\n",
       "Male      179\n",
       "Female    165\n",
       "Name: count, dtype: int64"
      ]
     },
     "execution_count": 18,
     "metadata": {},
     "output_type": "execute_result"
    }
   ],
   "source": [
    "# create a copy of the penguins DataFrame (pandas.pydata.org, n.d.) to remove nan values\n",
    "# the reason to create a copy is in case the original DataFrame is needed later\n",
    "penguins_copy = penguins.copy()\n",
    "\n",
    "# replace nan values with the mode - Zach (2022). The model could be unreliable if null values are not managed (Tamboli, 2021) \n",
    "penguins_copy['sex'] = penguins_copy['sex'].fillna(penguins_copy['sex'].mode()[0])\n",
    "\n",
    "# understand the number of male & female penguins in dataset for probability\n",
    "penguins_copy['sex'].value_counts()\n"
   ]
  },
  {
   "cell_type": "markdown",
   "metadata": {},
   "source": [
    "Out of the 344 rows of data 179 of the entries are male penguins.\n",
    "\n",
    "$\\implies P = 179/344 = 0.52$\n"
   ]
  },
  {
   "cell_type": "code",
   "execution_count": 19,
   "metadata": {},
   "outputs": [],
   "source": [
    "# import the numpy library as np\n",
    "import numpy as np"
   ]
  },
  {
   "cell_type": "code",
   "execution_count": 20,
   "metadata": {},
   "outputs": [
    {
     "name": "stdout",
     "output_type": "stream",
     "text": [
      "In this scenario the model indicates that the chance of successfully picking a male penguin at random from the dataset is 51.6%.\n"
     ]
    }
   ],
   "source": [
    "# seeding so the random numbers generated don't change when code is run, for demonstrative purposes\n",
    "np.random.seed(1)\n",
    "\n",
    "sex_prob = sum(np.random.binomial(1, 0.52, 1000) == 1)/1000.\n",
    "\n",
    "print(f'In this scenario the model indicates that the chance of successfully picking a male penguin '\n",
    "      f'at random from the dataset is {sex_prob*100}%.')\n"
   ]
  },
  {
   "cell_type": "markdown",
   "metadata": {},
   "source": [
    "In the above code:\n",
    "- $n = 1$ &rarr; 1 penguin is picked from the dataset.\n",
    "- $P = .52$ &rarr; is probability of picking a male penguin from the dataset.\n",
    "- size = 1000 &rarr; repeat the model 1000 time.\n",
    "- *== 1* &rarr; the boolean condition to successfully pick a male penguin."
   ]
  },
  {
   "cell_type": "markdown",
   "metadata": {},
   "source": [
    "A histogram of the binomial probability distribution can be created as follows"
   ]
  },
  {
   "cell_type": "code",
   "execution_count": 21,
   "metadata": {},
   "outputs": [],
   "source": [
    "# import the matplotlib library used to plot the histogram\n",
    "import matplotlib.pyplot as plt"
   ]
  },
  {
   "cell_type": "code",
   "execution_count": 22,
   "metadata": {},
   "outputs": [
    {
     "data": {
      "image/png": "[encoded data removed]",
      "text/plain": [
       "<Figure size 500x500 with 1 Axes>"
      ]
     },
     "metadata": {},
     "output_type": "display_data"
    }
   ],
   "source": [
    "# result of randomly picking 10 male penguins, tested 1000 times.\n",
    "male_prob_test = np.random.binomial(10, .52, 1000)\n",
    "\n",
    "# plot histogram\n",
    "plt.rcParams[\"figure.figsize\"] = [5, 5]\n",
    "plt.rcParams[\"figure.autolayout\"] = True\n",
    "\n",
    "fig, axs = plt.subplots()\n",
    "axs.hist(male_prob_test, bins=10)\n",
    "axs.set_title(\"Binomial Probability Distribution\")\n",
    "axs.set(xlabel='number', ylabel='frequency')\n",
    "plt.show()"
   ]
  },
  {
   "cell_type": "markdown",
   "metadata": {},
   "source": [
    "In the above example the resultant binomial distribution is symmetric. "
   ]
  },
  {
   "cell_type": "markdown",
   "metadata": {},
   "source": [
    "### Island and Species Variables <a id=\"island-and-species-variable\"></a>\n",
    "\n",
    "The [island and species variables](#variable-classification) are categorical species that are nominal. Thus, the mathematical operations that can be performed on them are limited to counts of objects. However, it is possible to use multinomial probability distribution to model this variable.\n",
    "\n",
    "*\"In probability theory, the multinomial distribution is a generalization of the binomial distribution\"*, (Wikipedia, 2021). *\"The term describes calculating the outcomes of experiments involving independent events which have two or more possible, defined outcomes\"*, (Fern and o, n.d.).\n",
    "\n",
    "From [previous analysis](#variable-selection) of the island and sex variable it is known that there are 3 islands (Torgersen, Biscoe & Dream) and 3 species of penguins (Adelie, Chinstrap and Gentoo). The following code can be used to model the probability of the penguin coming from a specific island or species: \n",
    "\n",
    "`random.multinomial(n, pvals, size=None)`. \n",
    "\n",
    "The arguments passed are: \n",
    "- n = the number of times to run the experiment \n",
    "- pval = the probability values (must sum to 1)\n",
    "- size = the number of arrays to return.\n",
    "\n",
    "Focusing on the Island variable specifically, apply random multinomial probability to the penguins dataset as follows:"
   ]
  },
  {
   "cell_type": "code",
   "execution_count": 23,
   "metadata": {},
   "outputs": [
    {
     "data": {
      "text/plain": [
       "island\n",
       "Biscoe       168\n",
       "Dream        124\n",
       "Torgersen     52\n",
       "Name: count, dtype: int64"
      ]
     },
     "execution_count": 23,
     "metadata": {},
     "output_type": "execute_result"
    }
   ],
   "source": [
    "# count the number of times each island occurs to calculate probability of each island being randomly selected\n",
    "penguins[\"island\"].value_counts()"
   ]
  },
  {
   "cell_type": "code",
   "execution_count": 24,
   "metadata": {},
   "outputs": [
    {
     "name": "stdout",
     "output_type": "stream",
     "text": [
      "Out of 20 random tests Torgersen was randomly selected 5 times, Biscoe was randomly selected 10 times and Dream was randomly selected 5 times.\n"
     ]
    }
   ],
   "source": [
    "# run the random multinomial probability distribution, pvals have been bought to the lowest common denominator\n",
    "island_multi_prob = np.random.multinomial(20, [21/43, 31/86, 13/86], size=1)\n",
    "\n",
    "# assign variables to array elements\n",
    "biscoe = island_multi_prob[0, 0]\n",
    "dream = island_multi_prob[0, 1]\n",
    "torgersen = island_multi_prob[0, 2]\n",
    "\n",
    "# print the results\n",
    "print(f'Out of 20 random tests '\n",
    "      f'Torgersen was randomly selected {torgersen} times, '\n",
    "      f'Biscoe was randomly selected {biscoe} times and '\n",
    "      f'Dream was randomly selected {dream} times.')\n"
   ]
  },
  {
   "cell_type": "markdown",
   "metadata": {},
   "source": [
    "### Numerical Variables <a id=\"numerical-variables\"></a>\n",
    "\n",
    "*Bill length*, *bill depth*, *flipper length* and *body mass* are [numerical variables](#variable-classification) that are continuous. Complex mathematical operations can be carried out on these variables. Specifically within the *Penguins* dataset all of these variables are occurring in nature. Many naturally occurring phenomena appear to be naturally distributed (Chen, 2021). Therefore it is logical to hypothesize that these variables can all be modelled using normal probability distribution.\n",
    "\n",
    "\n",
    "*Normal distribution, also known as the Gaussian distribution, is a probability distribution that is symmetric about the mean, showing that data near the mean are more frequent in occurrence than data far from the mean* (Chen, 2021).\n",
    "\n",
    "The standard distribution characteristic bell curve is illustrated below demonstrating that there is a 95.4% chance that a value will fall within 2 standard deviations of the mean. \n",
    "\n",
    "![Normal Distribution Curve](images/illustrations/Standard_deviation_diagram_micro.svg.png \"Normal Distribution Curve\")\n",
    "\n",
    "By Ainali - Own work, CC BY-SA 3.0, https://commons.wikimedia.org/w/index.php?curid=3141713\n",
    "\n",
    "In mathematical terms the normal distribution probability density function is expressed as:\n",
    "\n",
    "${\\displaystyle f(x)={\\frac {1}{\\sigma {\\sqrt {2\\pi }}}}e^{-{\\frac {1}{2}}\\left({\\frac {x-\\mu }{\\sigma }}\\right)^{2}}}$\n",
    "\n",
    "where:\n",
    "- $x$ = value of the variable or data being examined and $f(x)$ the probability function\n",
    "- $\\mu =$ the mean\n",
    "- $\\sigma =$ the standard deviation\n",
    "\n",
    "The mean and standard deviation for the numerical variables in the *Penguins dataset* are readily available, however to create an accurate model the null values must be dealt with:"
   ]
  },
  {
   "cell_type": "code",
   "execution_count": 25,
   "metadata": {},
   "outputs": [],
   "source": [
    "# use the copied DataFrame to fill na values with the median (Zach, 2022)\n",
    "penguins_copy[['bill_length_mm', 'bill_depth_mm', 'flipper_length_mm', 'body_mass_g']] = penguins_copy[['bill_length_mm', 'bill_depth_mm', 'flipper_length_mm', 'body_mass_g']].fillna(penguins_copy[['bill_length_mm', 'bill_depth_mm', 'flipper_length_mm', 'body_mass_g']].median())"
   ]
  },
  {
   "cell_type": "markdown",
   "metadata": {},
   "source": [
    "#### Adelie Penguins <a id=\"adelie-penguins\"></a>\n",
    "\n",
    "To test the hypothesis that the numerical variables can be modelled using Gaussian probability one can make the assumption that different species of penguin have different anatomical features. It then becomes useful to look at each species in isolation. The following example looks specifically at the *Adelie* species numerical variables."
   ]
  },
  {
   "cell_type": "code",
   "execution_count": 26,
   "metadata": {},
   "outputs": [
    {
     "name": "stdout",
     "output_type": "stream",
     "text": [
      "species\n",
      "Adelie       152\n",
      "Gentoo       124\n",
      "Chinstrap     68\n",
      "Name: count, dtype: int64\n"
     ]
    }
   ],
   "source": [
    "# understand what index adelie ends at\n",
    "print(penguins_copy['species'].value_counts())"
   ]
  },
  {
   "cell_type": "code",
   "execution_count": 27,
   "metadata": {},
   "outputs": [],
   "source": [
    "# take a subset of each species\n",
    "penguins_copy_adelie = penguins_copy.iloc[0:152]\n",
    "penguins_copy_chinstrap = penguins_copy.iloc[152:220]\n",
    "penguins_copy_gentoo = penguins_copy.iloc[220:344]"
   ]
  },
  {
   "cell_type": "markdown",
   "metadata": {},
   "source": [
    "The mean and standard deviation for the variables are easily available for the standard deviation variables using the `describe()` method:"
   ]
  },
  {
   "cell_type": "code",
   "execution_count": 28,
   "metadata": {},
   "outputs": [
    {
     "name": "stdout",
     "output_type": "stream",
     "text": [
      "       bill_length_mm  bill_depth_mm  flipper_length_mm  body_mass_g\n",
      "count      152.000000     152.000000         152.000000   152.000000\n",
      "mean        38.828618      18.339474         190.000000  3702.960526\n",
      "std          2.693957       1.215581           6.542778   457.922662\n",
      "min         32.100000      15.500000         172.000000  2850.000000\n",
      "25%         36.775000      17.475000         186.000000  3350.000000\n",
      "50%         38.800000      18.400000         190.000000  3700.000000\n",
      "75%         40.800000      19.000000         195.000000  4000.000000\n",
      "max         46.000000      21.500000         210.000000  4775.000000\n"
     ]
    }
   ],
   "source": [
    "# assign variables\n",
    "adelie_summary = penguins_copy_adelie.describe()\n",
    "\n",
    "# validate\n",
    "print(adelie_summary)"
   ]
  },
  {
   "cell_type": "code",
   "execution_count": 29,
   "metadata": {},
   "outputs": [],
   "source": [
    "# assign mean and std to variables\n",
    "adelie_bill_length_mean = adelie_summary.iloc[1, 0]\n",
    "adelie_bill_length_sd = adelie_summary.iloc[2, 0]\n",
    "adelie_bill_depth_mean = adelie_summary.iloc[1, 1]\n",
    "adelie_bill_depth_sd = adelie_summary.iloc[2, 1]\n",
    "adelie_flipper_length_mean = adelie_summary.iloc[1, 2]\n",
    "adelie_flipper_length_sd = adelie_summary.iloc[2, 2]\n",
    "adelie_body_mass_mean = adelie_summary.iloc[1, 3]\n",
    "adelie_body_mass_sd = adelie_summary.iloc[2, 3]\n"
   ]
  },
  {
   "cell_type": "markdown",
   "metadata": {},
   "source": [
    "The python syntax for the Gaussian distribution is:\n",
    "\n",
    "`random.normal(loc=0.0, scale=1.0, size=None)`\n",
    "\n",
    "- loc = mean of the distribution\n",
    "- scale = standard deviation of the distribution\n",
    "- size = output shape\n",
    "\n",
    "(numpy.org, n.d.)"
   ]
  },
  {
   "cell_type": "markdown",
   "metadata": {},
   "source": [
    "The normal probability distribution for each numerical variable can be modelled as follows:"
   ]
  },
  {
   "cell_type": "code",
   "execution_count": 30,
   "metadata": {},
   "outputs": [],
   "source": [
    "adelie_bill_length_normal_prob_dist = np.random.normal(adelie_bill_length_mean, adelie_bill_length_sd, 1000)\n",
    "adelie_bill_depth_normal_prob_dist = np.random.normal(adelie_bill_depth_mean, adelie_bill_depth_sd, 1000)\n",
    "adelie_flipper_length_normal_prob_dist = np.random.normal(adelie_flipper_length_mean, adelie_flipper_length_sd, 1000)\n",
    "adelie_body_mass_normal_prob_dist = np.random.normal(adelie_body_mass_mean, adelie_body_mass_sd, 1000)"
   ]
  },
  {
   "cell_type": "markdown",
   "metadata": {},
   "source": [
    "The models can be compared with the actual distribution of datapoints for each variable. This is done via visual representation of the datapoints."
   ]
  },
  {
   "cell_type": "code",
   "execution_count": 31,
   "metadata": {},
   "outputs": [
    {
     "data": {
      "image/png": "[encoded data removed]",
      "text/plain": [
       "<Figure size 750x1000 with 8 Axes>"
      ]
     },
     "metadata": {},
     "output_type": "display_data"
    }
   ],
   "source": [
    "plt.rcParams[\"figure.figsize\"] = [7.50, 10]\n",
    "plt.rcParams[\"figure.autolayout\"] = True\n",
    "\n",
    "fig, axis = plt.subplots(4, 2)\n",
    "axis[0, 0].hist(penguins_copy_adelie['bill_length_mm'], color = 'green', edgecolor = 'black', bins=15)\n",
    "axis[0, 0].set_title(\"Bill Length Distribution\")\n",
    "axis[0, 0].set(xlabel='value', ylabel='count')\n",
    "axis[0, 1].hist(adelie_bill_length_normal_prob_dist, color = 'grey', edgecolor = 'black', bins=30)\n",
    "axis[0, 1].set_title(\"Bill Length Model\")\n",
    "axis[0, 1].set(xlabel='value', ylabel='count')\n",
    "axis[1, 0].hist(penguins_copy_adelie['bill_depth_mm'], color = 'green', edgecolor = 'black', bins=15)\n",
    "axis[1, 0].set_title(\"Bill Depth Distribution\")\n",
    "axis[1, 0].set(xlabel='value', ylabel='count')\n",
    "axis[1, 1].hist(adelie_bill_depth_normal_prob_dist, color = 'grey', edgecolor = 'black', bins=30)\n",
    "axis[1, 1].set_title(\"Bill Depth Model\")\n",
    "axis[1, 1].set(xlabel='value', ylabel='count')\n",
    "axis[2, 0].hist(penguins_copy_adelie['flipper_length_mm'], color = 'green', edgecolor = 'black', bins=15)\n",
    "axis[2, 0].set_title(\"Flipper Length Distribution\")\n",
    "axis[2, 0].set(xlabel='value', ylabel='count')\n",
    "axis[2, 1].hist(adelie_flipper_length_normal_prob_dist, color = 'grey', edgecolor = 'black', bins=30)\n",
    "axis[2, 1].set_title(\"Flipper Length Model\")\n",
    "axis[2, 1].set(xlabel='value', ylabel='count')\n",
    "axis[3, 0].hist(penguins_copy_adelie['body_mass_g'], color = 'green', edgecolor = 'black', bins=15)\n",
    "axis[3, 0].set_title(\"Body Mass Distribution\")\n",
    "axis[3, 0].set(xlabel='value', ylabel='count')\n",
    "axis[3, 1].hist(adelie_body_mass_normal_prob_dist, color = 'grey', edgecolor = 'black', bins=30)\n",
    "axis[3, 1].set_title(\"Body Mass Model\")\n",
    "axis[3, 1].set(xlabel='value', ylabel='count')\n",
    "\n",
    "plt.suptitle('Adelie Penguin')\n",
    "plt.tight_layout()\n",
    "plt.show()"
   ]
  },
  {
   "cell_type": "markdown",
   "metadata": {},
   "source": [
    "All of the randomly generated distributions (right side graphs) to a large extent mirror the real world distributions. Both datasets demonstrate that data near the mean occurs more frequently than data further away from the mean. This is less pronounced for the real world body mass distribution."
   ]
  },
  {
   "cell_type": "markdown",
   "metadata": {},
   "source": [
    "#### Chinstrap Penguins <a id=\"chinstrap-penguins\"></a>\n",
    "\n",
    "Employing the above methodology to test the hypothesis that the numerical variables can be modelled using Gaussian probability. The following example looks specifically at the *Chinstrap* species numerical variables."
   ]
  },
  {
   "cell_type": "code",
   "execution_count": 32,
   "metadata": {},
   "outputs": [],
   "source": [
    "# assign variables\n",
    "chinstrap_summary = penguins_copy_chinstrap.describe()\n",
    "\n",
    "# assign mean and std to variables\n",
    "chinstrap_bill_length_mean = adelie_summary.iloc[1, 0]\n",
    "chinstrap_bill_length_sd = adelie_summary.iloc[2, 0]\n",
    "chinstrap_bill_depth_mean = adelie_summary.iloc[1, 1]\n",
    "chinstrap_bill_depth_sd = adelie_summary.iloc[2, 1]\n",
    "chinstrap_flipper_length_mean = adelie_summary.iloc[1, 2]\n",
    "chinstrap_flipper_length_sd = adelie_summary.iloc[2, 2]\n",
    "chinstrap_body_mass_mean = adelie_summary.iloc[1, 3]\n",
    "chinstrap_body_mass_sd = adelie_summary.iloc[2, 3]"
   ]
  },
  {
   "cell_type": "markdown",
   "metadata": {},
   "source": [
    "The normal probability distribution for each numerical variable can be modelled as follows:"
   ]
  },
  {
   "cell_type": "code",
   "execution_count": 33,
   "metadata": {},
   "outputs": [],
   "source": [
    "chinstrap_bill_length_normal_prob_dist = np.random.normal(chinstrap_bill_length_mean, chinstrap_bill_length_sd, 1000)\n",
    "chinstrap_bill_depth_normal_prob_dist = np.random.normal(chinstrap_bill_depth_mean, chinstrap_bill_depth_sd, 1000)\n",
    "chinstrap_flipper_length_normal_prob_dist = np.random.normal(chinstrap_flipper_length_mean, chinstrap_flipper_length_sd, 1000)\n",
    "chinstrap_body_mass_normal_prob_dist = np.random.normal(chinstrap_body_mass_mean, chinstrap_body_mass_sd, 1000)"
   ]
  },
  {
   "cell_type": "markdown",
   "metadata": {},
   "source": [
    "The models can be compared with the actual distribution of datapoints for each variable. This is done via visual representation of the datapoints."
   ]
  },
  {
   "cell_type": "code",
   "execution_count": 34,
   "metadata": {},
   "outputs": [
    {
     "data": {
      "image/png": "[encoded data removed]",
      "text/plain": [
       "<Figure size 750x1000 with 8 Axes>"
      ]
     },
     "metadata": {},
     "output_type": "display_data"
    }
   ],
   "source": [
    "plt.rcParams[\"figure.figsize\"] = [7.50, 10]\n",
    "plt.rcParams[\"figure.autolayout\"] = True\n",
    "\n",
    "fig, axis = plt.subplots(4, 2)\n",
    "axis[0, 0].hist(penguins_copy_chinstrap['bill_length_mm'], color = 'green', edgecolor = 'black', bins=15)\n",
    "axis[0, 0].set_title(\"Bill Length Distribution\")\n",
    "axis[0, 0].set(xlabel='value', ylabel='count')\n",
    "axis[0, 1].hist(chinstrap_bill_length_normal_prob_dist, color = 'grey', edgecolor = 'black', bins=30)\n",
    "axis[0, 1].set_title(\"Bill Length Model\")\n",
    "axis[0, 1].set(xlabel='value', ylabel='count')\n",
    "axis[1, 0].hist(penguins_copy_chinstrap['bill_depth_mm'], color = 'green', edgecolor = 'black', bins=15)\n",
    "axis[1, 0].set_title(\"Bill Depth Distribution\")\n",
    "axis[1, 0].set(xlabel='value', ylabel='count')\n",
    "axis[1, 1].hist(chinstrap_bill_depth_normal_prob_dist, color = 'grey', edgecolor = 'black', bins=30)\n",
    "axis[1, 1].set_title(\"Bill Depth Model\")\n",
    "axis[1, 1].set(xlabel='value', ylabel='count')\n",
    "axis[2, 0].hist(penguins_copy_chinstrap['flipper_length_mm'], color = 'green', edgecolor = 'black', bins=15)\n",
    "axis[2, 0].set_title(\"Flipper Length Distribution\")\n",
    "axis[2, 0].set(xlabel='value', ylabel='count')\n",
    "axis[2, 1].hist(chinstrap_flipper_length_normal_prob_dist, color = 'grey', edgecolor = 'black', bins=30)\n",
    "axis[2, 1].set_title(\"Flipper Length Model\")\n",
    "axis[2, 1].set(xlabel='value', ylabel='count')\n",
    "axis[3, 0].hist(penguins_copy_chinstrap['body_mass_g'], color = 'green', edgecolor = 'black', bins=15)\n",
    "axis[3, 0].set_title(\"Body Mass Distribution\")\n",
    "axis[3, 0].set(xlabel='value', ylabel='count')\n",
    "axis[3, 1].hist(chinstrap_body_mass_normal_prob_dist, color = 'grey', edgecolor = 'black', bins=30)\n",
    "axis[3, 1].set_title(\"Body Mass Model\")\n",
    "axis[3, 1].set(xlabel='value', ylabel='count')\n",
    "\n",
    "plt.suptitle('Chinstrap Penguin')\n",
    "plt.tight_layout()\n",
    "plt.show()"
   ]
  },
  {
   "cell_type": "markdown",
   "metadata": {},
   "source": [
    "All of the randomly generated distributions (right side graphs) to a large extent mirror the real world distributions, apart from bill depth. Bill depth appears closer to uniform distribution than a standard distribution. Aside from bill depth, both datasets demonstrate that data near the mean occurs more frequently than data further away from the mean.\n",
    "\n",
    "With respect to a uniform distribution any value within the given interval is equally likely to be drawn. The probability density function is expressed as:\n",
    "\n",
    "$p(x) = \\frac{1}{b - a}$\n",
    "\n",
    "The python syntax is `random.uniform(low=0.0, high=1.0, size=None)`,  where:\n",
    "\n",
    "- low = lower boundary of the output interval. All values generated will be greater than or equal to low. \n",
    "- high = Upper boundary of the output interval. All values generated will be less than or equal to high.\n",
    "- size = output shape\n",
    "\n",
    "Generate a uniform random distribution using the Chinstrap bill depth as follows:"
   ]
  },
  {
   "cell_type": "code",
   "execution_count": 35,
   "metadata": {},
   "outputs": [
    {
     "name": "stdout",
     "output_type": "stream",
     "text": [
      "       bill_length_mm  bill_depth_mm  flipper_length_mm  body_mass_g\n",
      "count       68.000000      68.000000          68.000000    68.000000\n",
      "mean        48.833824      18.420588         195.823529  3733.088235\n",
      "std          3.339256       1.135395           7.131894   384.335081\n",
      "min         40.900000      16.400000         178.000000  2700.000000\n",
      "25%         46.350000      17.500000         191.000000  3487.500000\n",
      "50%         49.550000      18.450000         196.000000  3700.000000\n",
      "75%         51.075000      19.400000         201.000000  3950.000000\n",
      "max         58.000000      20.800000         212.000000  4800.000000\n"
     ]
    }
   ],
   "source": [
    "# get high and low values\n",
    "print(chinstrap_summary)"
   ]
  },
  {
   "cell_type": "code",
   "execution_count": 36,
   "metadata": {},
   "outputs": [
    {
     "data": {
      "text/plain": [
       "<function matplotlib.pyplot.show(close=None, block=None)>"
      ]
     },
     "execution_count": 36,
     "metadata": {},
     "output_type": "execute_result"
    },
    {
     "data": {
      "image/png": "[encoded data removed]",
      "text/plain": [
       "<Figure size 750x300 with 3 Axes>"
      ]
     },
     "metadata": {},
     "output_type": "display_data"
    }
   ],
   "source": [
    "# assign variables\n",
    "low_val = chinstrap_summary.iloc[3, 1]\n",
    "high_val = chinstrap_summary.iloc[7, 1]\n",
    "\n",
    "# generate uniform distribution\n",
    "bill_depth_uniform_dist = np.random.uniform(low_val,high_val,1000)\n",
    "\n",
    "# plot graphs\n",
    "plt.rcParams[\"figure.figsize\"] = [7.50, 3]\n",
    "plt.rcParams[\"figure.autolayout\"] = True\n",
    "\n",
    "fig, axis = plt.subplots(1, 3)\n",
    "axis[0].hist(penguins_copy_chinstrap['bill_depth_mm'], color = 'green', edgecolor = 'black', bins=15)\n",
    "axis[0].set_title(\"Real World Data\")\n",
    "axis[0].set(xlabel='value', ylabel='count')\n",
    "axis[1].hist(bill_depth_uniform_dist, color = 'grey', edgecolor = 'black', bins=30)\n",
    "axis[1].set_title(\"Uniform Model\")\n",
    "axis[1].set(xlabel='value', ylabel='count')\n",
    "axis[2].hist(chinstrap_bill_depth_normal_prob_dist, color = 'grey', edgecolor = 'black', bins=30)\n",
    "axis[2].set_title(\"Standard Model\")\n",
    "axis[2].set(xlabel='value', ylabel='count')\n",
    "\n",
    "plt.suptitle('Chinstrap Bill Depth')\n",
    "plt.tight_layout()\n",
    "plt.show"
   ]
  },
  {
   "cell_type": "markdown",
   "metadata": {},
   "source": [
    "The middle histogram, demonstrating the uniform distribution, more closely mirrors the real world dataset than the histogram on the right that demonstrates the standard distribution. In this instance it would be more appropriate to use the uniform distribution to model the Chinstrap bill depth as opposed to the standard distribution. "
   ]
  },
  {
   "cell_type": "markdown",
   "metadata": {},
   "source": [
    "#### Gentoo Penguins <a id=\"gentoo-penguins\"></a>\n",
    "\n",
    "Employing the above methodology to test the hypothesis that the numerical variables can be modelled using Gaussian probability. The following example looks specifically at the *Gentoo* species numerical variables."
   ]
  },
  {
   "cell_type": "code",
   "execution_count": 37,
   "metadata": {},
   "outputs": [],
   "source": [
    "# assign variables\n",
    "gentoo_summary = penguins_copy_gentoo.describe()\n",
    "\n",
    "# assign mean and std to variables\n",
    "gentoo_bill_length_mean = gentoo_summary.iloc[1, 0]\n",
    "gentoo_bill_length_sd = gentoo_summary.iloc[2, 0]\n",
    "gentoo_bill_depth_mean = gentoo_summary.iloc[1, 1]\n",
    "gentoo_bill_depth_sd = gentoo_summary.iloc[2, 1]\n",
    "gentoo_flipper_length_mean = gentoo_summary.iloc[1, 2]\n",
    "gentoo_flipper_length_sd = gentoo_summary.iloc[2, 2]\n",
    "gentoo_body_mass_mean = gentoo_summary.iloc[1, 3]\n",
    "gentoo_body_mass_sd = gentoo_summary.iloc[2, 3]"
   ]
  },
  {
   "cell_type": "markdown",
   "metadata": {},
   "source": [
    "The normal probability distribution for each numerical variable can be modelled as follows:"
   ]
  },
  {
   "cell_type": "code",
   "execution_count": 38,
   "metadata": {},
   "outputs": [],
   "source": [
    "gentoo_bill_length_normal_prob_dist = np.random.normal(gentoo_bill_length_mean, gentoo_bill_length_sd, 1000)\n",
    "gentoo_bill_depth_normal_prob_dist = np.random.normal(gentoo_bill_depth_mean, gentoo_bill_depth_sd, 1000)\n",
    "gentoo_flipper_length_normal_prob_dist = np.random.normal(gentoo_flipper_length_mean, gentoo_flipper_length_sd, 1000)\n",
    "gentoo_body_mass_normal_prob_dist = np.random.normal(gentoo_body_mass_mean, gentoo_body_mass_sd, 1000)"
   ]
  },
  {
   "cell_type": "markdown",
   "metadata": {},
   "source": [
    "The models can be compared with the actual distribution of datapoints for each variable. This is done via visual representation of the datapoints."
   ]
  },
  {
   "cell_type": "code",
   "execution_count": 39,
   "metadata": {},
   "outputs": [
    {
     "data": {
      "image/png": "[encoded data removed]",
      "text/plain": [
       "<Figure size 750x1000 with 8 Axes>"
      ]
     },
     "metadata": {},
     "output_type": "display_data"
    }
   ],
   "source": [
    "plt.rcParams[\"figure.figsize\"] = [7.50, 10]\n",
    "plt.rcParams[\"figure.autolayout\"] = True\n",
    "\n",
    "fig, axis = plt.subplots(4, 2)\n",
    "axis[0, 0].hist(penguins_copy_gentoo['bill_length_mm'], color = 'green', edgecolor = 'black', bins=15)\n",
    "axis[0, 0].set_title(\"Bill Length Distribution\")\n",
    "axis[0, 0].set(xlabel='value', ylabel='count')\n",
    "axis[0, 1].hist(gentoo_bill_length_normal_prob_dist, color = 'grey', edgecolor = 'black', bins=30)\n",
    "axis[0, 1].set_title(\"Bill Length Model\")\n",
    "axis[0, 1].set(xlabel='value', ylabel='count')\n",
    "axis[1, 0].hist(penguins_copy_gentoo['bill_depth_mm'], color = 'green', edgecolor = 'black', bins=15)\n",
    "axis[1, 0].set_title(\"Bill Depth Distribution\")\n",
    "axis[1, 0].set(xlabel='value', ylabel='count')\n",
    "axis[1, 1].hist(gentoo_bill_depth_normal_prob_dist, color = 'grey', edgecolor = 'black', bins=30)\n",
    "axis[1, 1].set_title(\"Bill Depth Model\")\n",
    "axis[1, 1].set(xlabel='value', ylabel='count')\n",
    "axis[2, 0].hist(penguins_copy_gentoo['flipper_length_mm'], color = 'green', edgecolor = 'black', bins=15)\n",
    "axis[2, 0].set_title(\"Flipper Length Distribution\")\n",
    "axis[2, 0].set(xlabel='value', ylabel='count')\n",
    "axis[2, 1].hist(gentoo_flipper_length_normal_prob_dist, color = 'grey', edgecolor = 'black', bins=30)\n",
    "axis[2, 1].set_title(\"Flipper Length Model\")\n",
    "axis[2, 1].set(xlabel='value', ylabel='count')\n",
    "axis[3, 0].hist(penguins_copy_gentoo['body_mass_g'], color = 'green', edgecolor = 'black', bins=15)\n",
    "axis[3, 0].set_title(\"Body Mass Distribution\")\n",
    "axis[3, 0].set(xlabel='value', ylabel='count')\n",
    "axis[3, 1].hist(chinstrap_body_mass_normal_prob_dist, color = 'grey', edgecolor = 'black', bins=30)\n",
    "axis[3, 1].set_title(\"Body Mass Model\")\n",
    "axis[3, 1].set(xlabel='value', ylabel='count')\n",
    "\n",
    "plt.suptitle('Gentoo Penguin')\n",
    "plt.tight_layout()\n",
    "plt.show()"
   ]
  },
  {
   "cell_type": "markdown",
   "metadata": {},
   "source": [
    "All of the randomly generated distributions (right side graphs) to a large extent mirror the real world distributions, apart from bill depth. Once again bill depth appears closer to uniform distribution than a standard distribution. Aside from bill depth, both datasets demonstrate that data near the mean occurs more frequently than data further away from the mean.\n",
    "\n",
    "To test bill depth uniform random distribution: \n"
   ]
  },
  {
   "cell_type": "code",
   "execution_count": 40,
   "metadata": {},
   "outputs": [
    {
     "data": {
      "text/plain": [
       "<function matplotlib.pyplot.show(close=None, block=None)>"
      ]
     },
     "execution_count": 40,
     "metadata": {},
     "output_type": "execute_result"
    },
    {
     "data": {
      "image/png": "[encoded data removed]",
      "text/plain": [
       "<Figure size 750x300 with 3 Axes>"
      ]
     },
     "metadata": {},
     "output_type": "display_data"
    }
   ],
   "source": [
    "# assign variables\n",
    "gentoo_low_val = gentoo_summary.iloc[3, 1]\n",
    "gentoo_high_val = gentoo_summary.iloc[7, 1]\n",
    "\n",
    "# generate uniform distribution\n",
    "gentoo_bill_depth_uniform_dist = np.random.uniform(gentoo_low_val,gentoo_high_val,1000)\n",
    "\n",
    "# plot graphs\n",
    "plt.rcParams[\"figure.figsize\"] = [7.50, 3]\n",
    "plt.rcParams[\"figure.autolayout\"] = True\n",
    "\n",
    "fig, axis = plt.subplots(1, 3)\n",
    "axis[0].hist(penguins_copy_gentoo['bill_depth_mm'], color = 'green', edgecolor = 'black', bins=15)\n",
    "axis[0].set_title(\"Real World Data\")\n",
    "axis[0].set(xlabel='value', ylabel='count')\n",
    "axis[1].hist(gentoo_bill_depth_uniform_dist, color = 'grey', edgecolor = 'black', bins=30)\n",
    "axis[1].set_title(\"Uniform Model\")\n",
    "axis[1].set(xlabel='value', ylabel='count')\n",
    "axis[2].hist(gentoo_bill_depth_normal_prob_dist, color = 'grey', edgecolor = 'black', bins=30)\n",
    "axis[2].set_title(\"Standard Model\")\n",
    "axis[2].set(xlabel='value', ylabel='count')\n",
    "\n",
    "plt.suptitle('Gentoo Bill Depth')\n",
    "plt.tight_layout()\n",
    "plt.show"
   ]
  },
  {
   "cell_type": "markdown",
   "metadata": {},
   "source": [
    "The uniform distribution more closely mirrors the real world data representation than the standard distribution model."
   ]
  },
  {
   "cell_type": "markdown",
   "metadata": {},
   "source": [
    "### Conclusion <a id=\"conclusion\"></a>\n",
    "\n",
    "The following conclusions can be drawn:\n",
    "- Binomial distribution is the most suitable probability distribution to model the sex variable.\n",
    "- Multinomial distribution is the most suitable probability distribution to model the species and island variables.\n",
    "- Standard probability distribution is the most suitable probability distribution to model the numerical variables with the exception of:\n",
    "    \n",
    "    - Chinstrap bill depth which may be better suited to uniform probability distribution for modelling due to less of a tendency to symmetrically centre around a mean value.\n",
    "    - Gentoo bill depth which may be better suited to uniform probability distribution for modelling due to less of a tendency to symmetrically centre around a mean value."
   ]
  },
  {
   "cell_type": "markdown",
   "metadata": {},
   "source": [
    "### Task 3 References <a id=\"task-3-references\"></a>\n",
    "\n",
    "Barone, A. (2020). How Binomial Distribution Works. [online] Investopedia. Available at: https://www.investopedia.com/terms/b/binomialdistribution.asp. [Accessed 31 Oct. 2023].\n",
    "\n",
    "Chen, J. (2021). Normal Distribution. [online] Investopedia. Available at: https://www.investopedia.com/terms/n/normaldistribution.asp. [Accessed 1 Nov. 2023].\n",
    "\n",
    "Fern, J. and o (n.d.). What Does Multinomial Distribution Mean? [online] Investopedia. Available at: https://www.investopedia.com/terms/m/multinomial-distribution.asp. [Accessed 31 Oct. 2023].\n",
    "\n",
    "Numpy.org. (2021). numpy.random.binomial — NumPy v1.21 Manual. [online] Available at: https://numpy.org/doc/stable/reference/random/generated/numpy.random.binomial.html. [Accessed 31 Oct. 2023].\n",
    "\n",
    "numpy.org. (n.d.). numpy.random.normal — NumPy v1.21 Manual. [online] Available at: https://numpy.org/doc/stable/reference/random/generated/numpy.random.normal.html. [Accessed 1 Nov. 2023].\n",
    "\n",
    "pandas.pydata.org. (n.d.). pandas.DataFrame.copy — pandas 1.3.5 documentation. [online] Available at: https://pandas.pydata.org/docs/reference/api/pandas.DataFrame.copy.html. [Accessed 31 Oct. 2023].\n",
    "\n",
    "Tamboli, N. (2021). Tackling Missing Value in Dataset. [online] Analytics Vidhya. Available at: https://www.analyticsvidhya.com/blog/2021/10/handling-missing-value/. [Accessed 18 Oct. 2023].\n",
    "\n",
    "Wikipedia. (2021). Multinomial distribution. [online] Available at: https://en.wikipedia.org/wiki/Multinomial_distribution. [Accessed 31 Oct. 2023].\n",
    "\n",
    "Wikipedia Contributors (2019). Probability distribution. [online] Wikipedia. Available at: https://en.wikipedia.org/wiki/Probability_distribution. [Accessed 25 Oct. 2023].\n",
    "\n",
    "Zach (2022). Pandas: How to Fill NaN Values with Mode. [online] Statology. Available at: https://www.statology.org/pandas-fillna-with-mode/ [Accessed 31 Oct. 2023]."
   ]
  },
  {
   "cell_type": "markdown",
   "metadata": {},
   "source": [
    "### Task 3 Background Reading <a id=\"task-2-background-reading\"></a>\n",
    "\n",
    "Admin (2022). Pandas Count Unique Values in Column. [online] Spark By {Examples}. Available at: https://sparkbyexamples.com/pandas/pandas-count-unique-values-in-column/. [Accessed 31 Oct. 2023].\n",
    "\n",
    "Analytics Vidhya. (2021). What does NumPy Random Seed() do? [online] Available at: https://www.analyticsvidhya.com/blog/2021/12/what-does-numpy-random-seed-do/. [Accessed 1 Nov. 2023].\n",
    "\n",
    "Gupta, S. (2023). Plot two or more histograms side by side in Python. [online] CodeSpeedy. Available at: https://www.codespeedy.com/plot-two-or-more-histograms-side-by-side-in-python/ [Accessed 1 Nov. 2023].\n",
    "\n",
    "Indeed Career Guide. (n.d.). How to Calculate Probability. [online] Available at: https://www.indeed.com/career-advice/career-development/how-to-calculate-probability. [Accessed 1 Nov. 2023].\n",
    "\n",
    "matplotlib.org. (n.d.). Creating multiple subplots using plt.subplots — Matplotlib 3.4.1 documentation. [online] Available at: https://matplotlib.org/stable/gallery/subplots_axes_and_figures/subplots_demo.html. [Accessed 1 Nov. 2023].\n",
    "\n",
    "numpy.org. (n.d.). numpy.random.uniform — NumPy v1.22 Manual. [online] Available at: https://numpy.org/doc/stable/reference/random/generated/numpy.random.uniform.html. [Accessed 2 Nov. 2023].\n",
    "\n",
    "Stack Overflow. (n.d.). pandas - how to plot 2 histograms side by side? [online] Available at: https://stackoverflow.com/questions/45069828/how-to-plot-2-histograms-side-by-side. [Accessed 1 Nov. 2023]\n",
    "\n",
    "TeX - LaTeX Stack Exchange. (n.d.). \\Rightarrow vs. \\implies, and ‘does not imply’ symbol. [online] Available at: https://tex.stackexchange.com/questions/47063/rightarrow-vs-implies-and-does-not-imply-symbol [Accessed 1 Nov. 2023].\n",
    "\n",
    "\n",
    "Third Space Learning. (n.d.). How To Calculate Probability. [online] Available at: https://thirdspacelearning.com/gcse-maths/probability/how-to-calculate-probability/. [Accessed 1 Nov. 2023].\n",
    "\n",
    "wjgan7.github.io. (n.d.). LaTeX. [online] Available at: https://wjgan.com/posts/latex.html [Accessed 1 Nov. 2023].\n",
    "\n",
    "www.tutorialspoint.com. (n.d.). How to plot two histograms side by side using Matplotlib? [online] Available at: https://www.tutorialspoint.com/how-to-plot-two-histograms-side-by-side-using-matplotlib [Accessed 1 Nov. 2023].\n",
    "\n",
    "www.w3schools.com. (n.d.). NumPy Array Indexing. [online] Available at: https://www.w3schools.com/python/numpy/numpy_array_indexing.asp [Accessed 31 Oct. 2023].\n",
    "\n",
    "\n",
    "---"
   ]
  },
  {
   "cell_type": "markdown",
   "metadata": {},
   "source": [
    "## Task 4 - Coin Toss Entropy <a id=\"task-4---coin-toss-entropy\"></a>\n",
    "\n",
    "Task - *Suppose you are flipping two coins, each with a probability p of giving heads. Plot the entropy of the total number of heads versus p.*\n",
    "\n",
    "*In information theory, the entropy of a random variable is the average level of \"information\", \"surprise\", or \"uncertainty\" inherent to the variable's possible outcomes.* (Wikipedia Contributors, 2019).\n",
    "\n",
    "Assumptions:\n",
    "+ The coins used are unbiased coins, that is to say that there is an equal probability of of the coins landing on heads or tails. "
   ]
  },
  {
   "cell_type": "markdown",
   "metadata": {},
   "source": [
    "### Coin Toss Probability <a id=\"task-4-coin-toss-probability\"></a>\n",
    "\n",
    "The outcome of tossing an unbiased coin is a binary outcome i.e. the outcome is either a head or a tail. In this instance there is an equal probability of one in two (50%) of the coin either being a head or tail. Using python this assumption can be demonstrated. Python code can be used to illustrate the possible outcomes of coin tosses. Consider the following code where functions are defined to demonstrate the heads/tails combinations of coin tosses."
   ]
  },
  {
   "cell_type": "code",
   "execution_count": 14,
   "metadata": {},
   "outputs": [],
   "source": [
    "# code from - \n",
    "# https://stackoverflow.com/questions/49718861/determine-all-combinations-of-flipping-a-coin-without-using-itertools-product\n",
    "# [Accessed 17 Nov. 2023]\n",
    "\n",
    "def product (*iters):\n",
    "  def loop (prod, first = [], *rest):\n",
    "    if not rest:\n",
    "      for x in first:\n",
    "        yield prod + (x,)\n",
    "    else:\n",
    "      for x in first:\n",
    "        yield from loop (prod + (x,), *rest)\n",
    "  yield from loop ((), *iters)\n",
    "\n",
    "def toss_coins (n):\n",
    "  sides = [ 'H', 'T' ]\n",
    "  coins = [ sides ] * n\n",
    "  yield from product (*coins)"
   ]
  },
  {
   "cell_type": "markdown",
   "metadata": {},
   "source": [
    "To confirm the possible outcomes of tossing one coin the code is run. The output of the code is a list with two elements - *H* for *heads* and *T* for *tails*."
   ]
  },
  {
   "cell_type": "code",
   "execution_count": 18,
   "metadata": {},
   "outputs": [
    {
     "name": "stdout",
     "output_type": "stream",
     "text": [
      "[('H',), ('T',)]\n"
     ]
    }
   ],
   "source": [
    "# test the outcomes of tossing one coin\n",
    "print (list (toss_coins (1)))"
   ]
  },
  {
   "cell_type": "markdown",
   "metadata": {},
   "source": [
    "The outcome of flipping two coins is more complex in so far as the there are a number of possible heads and tails combinations. To illustrate the possible outcomes lets consider the following code where functions are defined to illustrate the heads/tails combinations of coin tosses. |Four possible outcomes of tossing two coins are demonstrated:\n",
    "+ Coin 1 - *Heads* & Coin 2 - *Heads*\n",
    "+ Coin 1 - *Heads* & Coin 2 - *Tails*\n",
    "+ Coin 1 - *Tails* & Coin 2 - *Heads*\n",
    "+ Coin 1 - *Tails* & Coin 2 - *Tails*\n",
    "\n",
    "Each possible outcome has a probability of 1 in 4 or a 25% chance of occurring."
   ]
  },
  {
   "cell_type": "code",
   "execution_count": 19,
   "metadata": {},
   "outputs": [
    {
     "name": "stdout",
     "output_type": "stream",
     "text": [
      "[('H', 'H'), ('H', 'T'), ('T', 'H'), ('T', 'T')]\n"
     ]
    }
   ],
   "source": [
    "# test the outcomes of tossing one coin\n",
    "print (list (toss_coins (2)))"
   ]
  },
  {
   "cell_type": "markdown",
   "metadata": {},
   "source": [
    "As more coins are tossed the number of possible outcomes increases and the probability of a specific outcome decreases. To test this assumption the code illustrates that if three dice are rolled there are eight possible outcomes giving a one in eight (12.5%) chance of any specific outcome occurring."
   ]
  },
  {
   "cell_type": "code",
   "execution_count": 27,
   "metadata": {},
   "outputs": [
    {
     "name": "stdout",
     "output_type": "stream",
     "text": [
      "There are 8 possible unique outcome combinations to tossing three coins.\n"
     ]
    }
   ],
   "source": [
    "outcomes = len(list (toss_coins (3)))\n",
    "print(f'There are {outcomes} possible unique outcome combinations to tossing three coins.')"
   ]
  },
  {
   "cell_type": "markdown",
   "metadata": {},
   "source": [
    "### Simulating Coin Tosses With Numpy <a id=\"simulating-coin-tosses-with-numpy\"></a>"
   ]
  },
  {
   "cell_type": "markdown",
   "metadata": {},
   "source": [
    "The random outcomes of coin tosses can be simulated using numpy, specifically the "
   ]
  },
  {
   "cell_type": "code",
   "execution_count": null,
   "metadata": {},
   "outputs": [],
   "source": []
  },
  {
   "cell_type": "markdown",
   "metadata": {},
   "source": [
    "### Task 4 References <a id=\"task-4-references\"></a>\n",
    "\n",
    "Stack Overflow. (n.d.). Determine all combinations of flipping a coin without using ‘itertools.product’. [online] Available at: https://stackoverflow.com/questions/49718861/determine-all-combinations-of-flipping-a-coin-without-using-itertools-product [Accessed 17 Nov. 2023].\n",
    "\n",
    "Wikipedia Contributors (2019). Entropy (information theory). [online] Wikipedia. Available at: https://en.wikipedia.org/wiki/Entropy_(information_theory). [Accessed 17 Nov. 2023]."
   ]
  },
  {
   "cell_type": "markdown",
   "metadata": {},
   "source": [
    "### Task 4 Background Reading <a id=\"task-4-background-reading\"></a>\n",
    "\n",
    "Tudelft.nl. (2023). Creating a numpy array in a loop. [online] Available at: https://nsweb.tn.tudelft.nl/~gsteele/TN2513_Tips/Creating%20a%20numpy%20array%20in%20a%20loop.html [Accessed 17 Nov. 2023].\n",
    "\n"
   ]
  },
  {
   "cell_type": "markdown",
   "metadata": {},
   "source": [
    "End of Notebook"
   ]
  }
 ],
 "metadata": {
  "kernelspec": {
   "display_name": "Python 3 (ipykernel)",
   "language": "python",
   "name": "python3"
  },
  "language_info": {
   "codemirror_mode": {
    "name": "ipython",
    "version": 3
   },
   "file_extension": ".py",
   "mimetype": "text/x-python",
   "name": "python",
   "nbconvert_exporter": "python",
   "pygments_lexer": "ipython3",
   "version": "3.11.5"
  }
 },
 "nbformat": 4,
 "nbformat_minor": 2
}
