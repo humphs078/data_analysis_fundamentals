{
 "cells": [
  {
   "cell_type": "code",
   "execution_count": 47,
   "metadata": {},
   "outputs": [],
   "source": [
    "import numpy as np\n",
    "import matplotlib.pyplot as plt\n",
    "\n",
    "# np.random.seed(seed=78)\n",
    "rng = np.random.default_rng(seed=78)\n",
    "two_coins = rng.binomial(1, .5, (100, 2))"
   ]
  },
  {
   "cell_type": "code",
   "execution_count": 48,
   "metadata": {},
   "outputs": [
    {
     "name": "stdout",
     "output_type": "stream",
     "text": [
      "[1 2 1 0 2 1 2 1 1 1 1 1 1 1 1 1 1 2 1 2 2 0 2 1 0 1 2 1 0 1 2 2 1 0 0 1 2\n",
      " 0 1 1 0 1 1 1 0 2 0 2 1 1 0 2 0 1 1 2 1 0 0 0 0 2 1 0 1 2 2 1 1 1 1 2 1 1\n",
      " 1 1 1 2 1 1 0 1 2 1 1 0 2 2 1 2 2 1 2 1 2 2 1 0 1 0]\n"
     ]
    }
   ],
   "source": [
    "combined = two_coins.sum(axis=1)\n",
    "print(combined)"
   ]
  },
  {
   "cell_type": "code",
   "execution_count": 21,
   "metadata": {},
   "outputs": [
    {
     "name": "stdout",
     "output_type": "stream",
     "text": [
      "[[0 0]\n",
      " [0 1]\n",
      " [1 0]\n",
      " [1 1]] [27 29 23 21]\n"
     ]
    }
   ],
   "source": [
    "x, counts = np.unique(two_coins, return_counts=True, axis=0)\n",
    "print(x, counts)"
   ]
  }
 ],
 "metadata": {
  "kernelspec": {
   "display_name": "base",
   "language": "python",
   "name": "python3"
  },
  "language_info": {
   "codemirror_mode": {
    "name": "ipython",
    "version": 3
   },
   "file_extension": ".py",
   "mimetype": "text/x-python",
   "name": "python",
   "nbconvert_exporter": "python",
   "pygments_lexer": "ipython3",
   "version": "3.11.5"
  }
 },
 "nbformat": 4,
 "nbformat_minor": 2
}
