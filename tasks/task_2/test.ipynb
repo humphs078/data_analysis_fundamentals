{
 "cells": [
  {
   "cell_type": "code",
   "execution_count": 2,
   "metadata": {},
   "outputs": [
    {
     "data": {
      "text/plain": [
       "'Adelie'"
      ]
     },
     "execution_count": 2,
     "metadata": {},
     "output_type": "execute_result"
    }
   ],
   "source": [
    "import pandas as pd\n",
    "import seaborn as sns\n",
    "penguins = sns.load_dataset('penguins')\n",
    "\n",
    "# Define variables\n",
    "ds_name = \"Penguins dataset\"\n",
    "rows = penguins.shape[0]\n",
    "columns = penguins.shape[1]\n",
    "ds_type = type(penguins)\n",
    "null_values = penguins.isnull().sum()\n",
    "ds_5_rows = penguins.head()\n",
    "\n",
    "species = penguins['species'].unique()\n",
    "species[0]"
   ]
  }
 ],
 "metadata": {
  "kernelspec": {
   "display_name": "base",
   "language": "python",
   "name": "python3"
  },
  "language_info": {
   "codemirror_mode": {
    "name": "ipython",
    "version": 3
   },
   "file_extension": ".py",
   "mimetype": "text/x-python",
   "name": "python",
   "nbconvert_exporter": "python",
   "pygments_lexer": "ipython3",
   "version": "3.9.13"
  }
 },
 "nbformat": 4,
 "nbformat_minor": 2
}
