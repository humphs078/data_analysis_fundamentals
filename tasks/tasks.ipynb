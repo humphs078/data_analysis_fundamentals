{
 "cells": [
  {
   "cell_type": "markdown",
   "metadata": {},
   "source": [
    "# Fundamentals of Data Analysis Tasks Notebook\n",
    "\n",
    "Sean Humphreys\n",
    "\n",
    "----"
   ]
  },
  {
   "cell_type": "markdown",
   "metadata": {},
   "source": []
  },
  {
   "cell_type": "markdown",
   "metadata": {},
   "source": [
    "## Task 1 - Collatz Conjecture\n",
    "----\n",
    "\n",
    "Task 1 - *Verify, using Python, that the conjecture is true for the first 10,000 positive integers.*\n",
    "\n",
    "Often thought of as the simplest impossible problem the Collatz Conjecture asks whether repeating two simple arithmetic operations will eventually transform every positive integer into 1.\n",
    "\n",
    "$f(n) = \\begin{cases} n/2 &\\text{if } n = \\text{even} \\\\\n",
    "(3n +1)/2 & \\text{if } n = \\text{odd} \\end{cases}$\n",
    "\n",
    "**Assumptions**\n",
    "- If the Collatz conjecture for a positive integer holds true all numbers will end in an infinite loop of 4, 2, 1 - this includes the numbers 1 and 2.\n",
    "- The script should indicate to the end user if the Collatz Conjecture holds true for the desired range of positive integers.\n",
    "- If the Collatz conjecture does not hold true for any values, the script should return the values that do not hold true.\n",
    "- For usability purposes the script should be able to handle any range of input values not just the first 10,000 positive integers.\n",
    "- The script will not run if negative integers, floating point decimals or strings are entered as arguments.\n",
    "- If these values are entered as arguments the script will give clear instruction to the end user of the correct format for arguments to be entered."
   ]
  },
  {
   "cell_type": "code",
   "execution_count": null,
   "metadata": {
    "vscode": {
     "languageId": "plaintext"
    }
   },
   "outputs": [],
   "source": [
    "# define a function to test the Collatz Conjecture and return a list that contains the sequence if the conjecture holds true or if not true a list with the number will be returned\n",
    "def collatz(number):\n",
    "    collatz_sequence_list = []\n",
    "    wrong_list = []\n",
    "    loop_list = [4, 2, 1]\n",
    "    if number == 1:\n",
    "        # to test 1 the 4,2,1 loop needs to be included to test against\n",
    "        collatz_sequence_list = [1, 4, 2, 1]\n",
    "    elif number == 2:\n",
    "        # to test 2 the 4,2,1 loop needs to be included to test against\n",
    "        collatz_sequence_list = [2, 4, 2, 1]\n",
    "    else:\n",
    "        collatz_sequence_list.append(number)\n",
    "        while (number != 1):\n",
    "            if (number % 2 == 0):\n",
    "                number = number//2\n",
    "                collatz_sequence_list.append(number)\n",
    "            else:\n",
    "                number = number*3+1\n",
    "                collatz_sequence_list.append(number)\n",
    "    if loop_list != collatz_sequence_list[-3:]:\n",
    "        wrong_list.append(collatz_sequence_list[0])\n",
    "        return wrong_list\n",
    "    else:\n",
    "        return collatz_sequence_list"
   ]
  },
  {
   "cell_type": "markdown",
   "metadata": {},
   "source": [
    "The `collatz(number)` function defined above takes an integer as an argument. It calculates the Collatz sequence for that value and tests if that sequence ends in a 4, 2, 1,  loop. If the sequence ends in the 4, 2, 1 loop, the function returns a list that contains the Collatz sequence for that number.  If the sequence for the number does not end in a 4, 2, 1 loop, the function returns the value in a list. Because of the conditions implemented in the function an allowance has to be made for the numbers 1 and 2. To test them against the 4, 2, 1 loop the assumption that all Collatz sequence numbers end in a 4, 2, 1 loop is made by testing them against a list that ends in 4, 2, 1. In this functioon extensive use is made of 'if' and 'else' statements. For any number other than 1 or 2 a 'while' loop is used to generate a list containing the Collatz sequence for that number. "
   ]
  },
  {
   "cell_type": "code",
   "execution_count": null,
   "metadata": {
    "vscode": {
     "languageId": "plaintext"
    }
   },
   "outputs": [],
   "source": [
    "# this function return a list of values where the Collatz conjecture does not hold true for the given range\n",
    "def wrong_list(lower, upper):\n",
    "    wrong_list = []\n",
    "    for i in range(lower, upper):\n",
    "        if len(collatz(i)) == 1:\n",
    "            wrong_list.append(i)\n",
    "    return (wrong_list)"
   ]
  },
  {
   "cell_type": "markdown",
   "metadata": {
    "vscode": {
     "languageId": "plaintext"
    }
   },
   "source": [
    "The `wrong_list(lower, upper)` function tests the output of the `collatz(number)` function for the range of values defined in the \"lower\" and \"upper\" arguments. To achieve this a for loop is implemented. If the length of the list of returned by the `collat(number)` function is 1 the value is appended to a list. Upon completion of the for loop, the list of the numbers (if any) that do not adhere to the Collatz Conjecture are returned by the function."
   ]
  },
  {
   "cell_type": "code",
   "execution_count": null,
   "metadata": {
    "vscode": {
     "languageId": "plaintext"
    }
   },
   "outputs": [],
   "source": [
    "# this function returns a list of values where the Collatz conjecture holds true the given range\n",
    "def right_list(lower, upper):\n",
    "    right_list = []\n",
    "    for i in range(lower, upper):\n",
    "        if len(collatz(i)) > 1:\n",
    "            right_list.append(i)\n",
    "    return (right_list)"
   ]
  },
  {
   "cell_type": "markdown",
   "metadata": {},
   "source": [
    "In a similar way the `right_list(lower, upper)` function tests the output of the `collatz(number)` function. In this instance, if the length of the list returned from the `collatz(number)` function is greater than 1, the `right_list(lower, upper)` function will return a list that contains all the values for which the Collatz Conjecture holds true in the given range."
   ]
  },
  {
   "cell_type": "code",
   "execution_count": null,
   "metadata": {
    "vscode": {
     "languageId": "plaintext"
    }
   },
   "outputs": [],
   "source": [
    "# this function prints the list of numbers that either are true or false for the Collatz conjecture in a given range\n",
    "def result(lowest_number, highest_number):\n",
    "    wrong_list_var = wrong_list(lowest_number, highest_number)\n",
    "    right_list_var = right_list(lowest_number, highest_number)\n",
    "    string = 'The numbers that Collatz Conjecture does not hold true for are: '\n",
    "    result = ', '.join(str(item) for item in wrong_list_var)\n",
    "    if len(wrong_list_var) > 0:\n",
    "        print(string + result)\n",
    "    elif len(right_list_var) > 0:\n",
    "        print(\n",
    "            f'The Collatz Conjecture holds true for the numbers from {lowest_number} up to and including {highest_number-1}.')"
   ]
  },
  {
   "cell_type": "markdown",
   "metadata": {},
   "source": []
  }
 ],
 "metadata": {
  "kernelspec": {
   "display_name": "base",
   "language": "python",
   "name": "python3"
  },
  "language_info": {
   "codemirror_mode": {
    "name": "ipython",
    "version": 3
   },
   "file_extension": ".py",
   "mimetype": "text/x-python",
   "name": "python",
   "nbconvert_exporter": "python",
   "pygments_lexer": "ipython3",
   "version": "3.9.13"
  },
  "orig_nbformat": 4
 },
 "nbformat": 4,
 "nbformat_minor": 2
}
