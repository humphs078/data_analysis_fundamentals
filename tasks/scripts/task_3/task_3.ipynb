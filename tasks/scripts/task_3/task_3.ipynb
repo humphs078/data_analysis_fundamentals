{
 "cells": [
  {
   "cell_type": "code",
   "execution_count": 1,
   "metadata": {},
   "outputs": [
    {
     "ename": "NameError",
     "evalue": "name 'np' is not defined",
     "output_type": "error",
     "traceback": [
      "\u001b[1;31m---------------------------------------------------------------------------\u001b[0m",
      "\u001b[1;31mNameError\u001b[0m                                 Traceback (most recent call last)",
      "\u001b[1;32mc:\\Users\\patsy\\OneDrive\\Documents\\ATU-sean_laptop\\data_analysis_fundamentals\\tasks\\scripts\\task_3\\task_3.ipynb Cell 2\u001b[0m line \u001b[0;36m1\n\u001b[1;32m----> <a href='vscode-notebook-cell:/c%3A/Users/patsy/OneDrive/Documents/ATU-sean_laptop/data_analysis_fundamentals/tasks/scripts/task_3/task_3.ipynb#W4sZmlsZQ%3D%3D?line=0'>1</a>\u001b[0m np\u001b[39m.\u001b[39mrandom\u001b[39m.\u001b[39mseed(\u001b[39m1\u001b[39m)\n\u001b[0;32m      <a href='vscode-notebook-cell:/c%3A/Users/patsy/OneDrive/Documents/ATU-sean_laptop/data_analysis_fundamentals/tasks/scripts/task_3/task_3.ipynb#W4sZmlsZQ%3D%3D?line=1'>2</a>\u001b[0m s \u001b[39m=\u001b[39m \u001b[39msum\u001b[39m(np\u001b[39m.\u001b[39mrandom\u001b[39m.\u001b[39mbinomial(\u001b[39m1\u001b[39m, \u001b[39m0.52\u001b[39m, \u001b[39m1000\u001b[39m) \u001b[39m==\u001b[39m \u001b[39m1\u001b[39m)\u001b[39m/\u001b[39m\u001b[39m1000.\u001b[39m\n\u001b[0;32m      <a href='vscode-notebook-cell:/c%3A/Users/patsy/OneDrive/Documents/ATU-sean_laptop/data_analysis_fundamentals/tasks/scripts/task_3/task_3.ipynb#W4sZmlsZQ%3D%3D?line=3'>4</a>\u001b[0m \u001b[39mprint\u001b[39m(\u001b[39mf\u001b[39m\u001b[39m'\u001b[39m\u001b[39mIn this scenario the model indicates that the chance of successfully picking a male penguin \u001b[39m\u001b[39m'\u001b[39m\n\u001b[0;32m      <a href='vscode-notebook-cell:/c%3A/Users/patsy/OneDrive/Documents/ATU-sean_laptop/data_analysis_fundamentals/tasks/scripts/task_3/task_3.ipynb#W4sZmlsZQ%3D%3D?line=4'>5</a>\u001b[0m       \u001b[39mf\u001b[39m\u001b[39m'\u001b[39m\u001b[39mat random from the dataset is \u001b[39m\u001b[39m{\u001b[39;00ms\u001b[39m*\u001b[39m\u001b[39m100\u001b[39m\u001b[39m}\u001b[39;00m\u001b[39m%.\u001b[39m\u001b[39m'\u001b[39m)\n",
      "\u001b[1;31mNameError\u001b[0m: name 'np' is not defined"
     ]
    }
   ],
   "source": [
    "\n",
    "\n",
    "np.random.seed(1)\n",
    "s = sum(np.random.binomial(1, 0.52, 1000) == 1)/1000.\n",
    "\n",
    "print(f'In this scenario the model indicates that the chance of successfully picking a male penguin '\n",
    "      f'at random from the dataset is {s*100}%.')"
   ]
  }
 ],
 "metadata": {
  "kernelspec": {
   "display_name": "base",
   "language": "python",
   "name": "python3"
  },
  "language_info": {
   "codemirror_mode": {
    "name": "ipython",
    "version": 3
   },
   "file_extension": ".py",
   "mimetype": "text/x-python",
   "name": "python",
   "nbconvert_exporter": "python",
   "pygments_lexer": "ipython3",
   "version": "3.11.5"
  }
 },
 "nbformat": 4,
 "nbformat_minor": 2
}
