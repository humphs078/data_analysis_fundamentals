{
 "cells": [
  {
   "cell_type": "markdown",
   "metadata": {},
   "source": [
    "## Binomial Probability\n",
    "Used for sex\n",
    "\n"
   ]
  },
  {
   "cell_type": "code",
   "execution_count": 4,
   "metadata": {},
   "outputs": [
    {
     "data": {
      "image/png": "[encoded data removed]",
      "text/plain": [
       "<Figure size 640x480 with 1 Axes>"
      ]
     },
     "metadata": {},
     "output_type": "display_data"
    }
   ],
   "source": [
    "import numpy as np\n",
    "\n",
    "from scipy.stats import binom\n",
    "\n",
    "import matplotlib.pyplot as plt\n",
    "\n",
    "fig, ax = plt.subplots(1, 1)\n",
    "\n",
    "n, p = 40, 0.5\n",
    "\n",
    "mean, var, skew, kurt = binom.stats(n, p, moments='mvsk')\n",
    "\n",
    "x = np.arange(binom.ppf(0.01, n, p),\n",
    "\n",
    "              binom.ppf(0.99, n, p))\n",
    "\n",
    "ax.plot(x, binom.pmf(x, n, p), 'bo', ms=8, label='binom pmf')\n",
    "\n",
    "ax.vlines(x, 0, binom.pmf(x, n, p), colors='b', lw=5, alpha=0.5)\n",
    "rv = binom(n, p)\n",
    "\n",
    "ax.vlines(x, 0, rv.pmf(x), colors='k', linestyles='-', lw=1,\n",
    "\n",
    "        label='frozen pmf')\n",
    "\n",
    "ax.legend(loc='best', frameon=False)\n",
    "\n",
    "plt.show()"
   ]
  },
  {
   "cell_type": "code",
   "execution_count": 2,
   "metadata": {},
   "outputs": [
    {
     "name": "stdout",
     "output_type": "stream",
     "text": [
      "[ 4  4  4  4  3  7  4  4  8  4  6  4  6  6  5  5  5  5  6  3  6  8  3  4\n",
      "  5  4  3  9  5  8  3  7  5  3  6  3  8  4  4  4  6  4  2  3  5  6  5  9\n",
      "  6  5  5  4  6  5  6  6  6  3  8  7  4  5  2  3  5  5  5  2  5  5  5  5\n",
      "  6  5  4  4  7  4  3  6  7  7  4  3  5  5  5  4  5  9  6  5  6  4  6  6\n",
      "  4  2  6  5  4  7  7  6  5  4  6  5  6  4  8  7  5  3  6  5  5  4  7  7\n",
      "  5  8  4  3  3  3  5  6  6  4  7  3  6  7  6  4  5  4  4  4  4  6  5  4\n",
      "  4  6  6  6  4  5  2  5  6  7  6  7  6  5  6  4  5  3  8  4  6  3  2  9\n",
      "  8  2  3  5  4  5  7  7  7  3  3  3  6  6  4  6  6  8  3  3  7  4  5  6\n",
      "  8  1  5  6  2  6  5  5  2  5  4  2  7  5  5  4  5  7  7  4  1  4  8  4\n",
      "  3  4  6  7  7  5  4  4  5  7  6  4  4  5  5  5  6  8  8  5  7  4  6  2\n",
      "  5  5  5  5  4  4  7  4  3  5  5  5  5  4  5  6  7  4  6  4  4  4  7  4\n",
      "  5  4  4  5  7  5  4  3  2  6  4  5  2  4  4  2  4  4  4  4  4  8  3  5\n",
      "  5  6  5  6  6  6  4  4  3  6  6  3  4  6  8  5  4  5  4  4  6  5  6  5\n",
      "  4  4  8  3  4  4  3  4  4  6  7  7  3  5  8  8  6  7  4  6  6  1  3  5\n",
      "  3  6  6  3  4  6  5  4  6  5  5 10  6  6  9  7  7  6  5  8  5  5  3  6\n",
      "  6  7  6  8  3  9  6  6  5  4  3  5  5  7  5  5  4  6  5  4  5  7  6  4\n",
      "  4  7  4  5  3  6  2  4  5  4  8  5  2  4  7  4  0  4  6  3  4  5  3  7\n",
      "  2  4  4  8  6  6  6  4  4  7  6  9  4  6  7  6  4  3  4  6  7  3  5  5\n",
      "  7  3  6  7  4  1  6  3  6  8  9  4  5  3  5  5  4  5  6  6  6  5  7  2\n",
      "  6  5  4  3  3  5  6  3  2  7  5  6  6  3  6  8  7  6  4  4  4  4  2  7\n",
      "  5  7  6  5  3  7  5  7  5  7  7  5  5  3  9  7  9  5  5  4  6  6  7  5\n",
      "  4  6  6  6  6  7  7  7  4  6  4  5  5  3  6  2  5  6  6  4  6  3  6  5\n",
      "  5  4  3  6  6  8  6  3  7  3  5  4  4  6  7  3  4  3  4  6  5  3  6  6\n",
      "  0  7  5  5  5  6  8  6  6  5  4  0  4  4  5  4  9  6  7  6  3  7  4  4\n",
      "  8  6  6  6  5  4  5  4  6  6  7  5  8  4  7  6  9  4  5  5  4  7  4  4\n",
      "  5  5  6  4  4  5  6  3  5  6  6  6  1  5  6  6  6  8  6  5  4  4  3  6\n",
      "  7  7  5  4  6  4  5  4  5  4  4  3  6  4  8  4  7  4  6  3  4  2  6  6\n",
      "  4  5  5  7  4  4  4  4  3  7  3  7  5  4  6  5  4  7  5  3  6  6  4  3\n",
      "  6  6  6  6  5  3  5  5  4  8  3  3  5  3  6  5  3  7  6  7  7  2  6  6\n",
      "  6  6  3  3  4  3  6  4  4  8  5  4  7  9  3  3  6  6  7  5  4  5  7  4\n",
      "  7  4  4  6  6  3  5  5  4  4  4  7  5  4  5  4  3  4  6  5  6  4  8  4\n",
      "  7  5  4  5  5  7  3  5  5  8  5  5  3  5  5  6  4  3  8  6  4  3  7  6\n",
      "  6  7  3  5  4  5  6  2  5  5  6  2  3  5  7  5  6  5  5  4  3  2  3  4\n",
      "  4  8  5  6  4  5  2  4  6  4  4  3  7  5  7  5  4  5  5  5  4  4  4  5\n",
      "  6  5  5  6  7  3  5  5  5  3  7  7  7  6  2  6  5  5  6  7  6  6  5  6\n",
      "  9  7  3  6  6  7  4  5  4  3  2  2  6  6  7  5  6  4  5  6  8  5  5  5\n",
      "  8  3  8  6  5  5  2  5  4  6  6  3  5  5  4  5  4  4  8  5  6  8  4  7\n",
      "  7  6  3  6  6  4  6  6  2  3  5  8  5  7  5  2  3  6  5  5  6  5  3  3\n",
      "  5  6  6  4  6  4  7  6  7  4  6  6  6  6  6  6  4  5  5  6  5  5  6  4\n",
      "  7  6  6  4  7  8  3  4  6  5  6  5  5  3  5  3  6  3  4  5  5  5  6  4\n",
      "  3  5  3  5  3  9  4  5  7  5  5  8  4  3  6  2  1  6  3  2  3  2  4  4\n",
      "  5  6  4  6 10  6  6  6  4  6  3  4  5  5  4  4]\n"
     ]
    }
   ],
   "source": [
    "n, p = 10, .5  # number of trials, probability of each trial\n",
    "\n",
    "s = np.random.binomial(n, p, 1000)\n",
    "# result of flipping a coin 10 times, tested 1000 times\n",
    "print(s)\n"
   ]
  },
  {
   "cell_type": "markdown",
   "metadata": {},
   "source": [
    "## Polynomial Distribution"
   ]
  },
  {
   "cell_type": "code",
   "execution_count": 3,
   "metadata": {},
   "outputs": [
    {
     "name": "stdout",
     "output_type": "stream",
     "text": [
      "[[7 5 8]]\n"
     ]
    }
   ],
   "source": [
    "x = np.random.multinomial(20, [1/3.]*3, size=1)\n",
    "\n",
    "print(x) "
   ]
  }
 ],
 "metadata": {
  "kernelspec": {
   "display_name": "base",
   "language": "python",
   "name": "python3"
  },
  "language_info": {
   "codemirror_mode": {
    "name": "ipython",
    "version": 3
   },
   "file_extension": ".py",
   "mimetype": "text/x-python",
   "name": "python",
   "nbconvert_exporter": "python",
   "pygments_lexer": "ipython3",
   "version": "3.11.5"
  }
 },
 "nbformat": 4,
 "nbformat_minor": 2
}
